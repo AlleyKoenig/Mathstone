{
 "cells": [
  {
   "cell_type": "code",
   "execution_count": 6,
   "id": "50376f60-133c-45ac-9fc6-d61a55e9d776",
   "metadata": {
    "tags": []
   },
   "outputs": [],
   "source": [
    "import networkx as nx\n",
    "import plotly as ply\n",
    "import numpy as np\n",
    "import sympy as sym"
   ]
  },
  {
   "cell_type": "code",
   "execution_count": 7,
   "id": "f1d88e95-60fd-4b51-a654-949aa0f99fca",
   "metadata": {
    "tags": []
   },
   "outputs": [],
   "source": [
    "# v1 -e1-> v2 -e2-> v3 -e3-> v4 <-e4- v5 <-e5- v6 <-e6- v1\n",
    "\n",
    "#-7 <= k<= 20"
   ]
  },
  {
   "cell_type": "code",
   "execution_count": 8,
   "id": "aba0f710-4c63-48ed-82ed-192154dad0e4",
   "metadata": {
    "tags": []
   },
   "outputs": [],
   "source": [
    "def norepet(cycle):\n",
    "    ret =True\n",
    "    NewList =[]\n",
    "    for a in cycle:\n",
    "        if a not in NewList:\n",
    "            NewList.append(a)\n",
    "        else:\n",
    "            return False\n",
    "    return ret\n",
    "def inrange(cycle,min, max):\n",
    "    ret =True\n",
    "    for a in cycle:\n",
    "        if a < min:\n",
    "            return False\n",
    "        elif a > max:\n",
    "            return False\n",
    "    return ret"
   ]
  },
  {
   "cell_type": "code",
   "execution_count": 23,
   "id": "dade5f9c-840a-40aa-8c57-587a9df78bed",
   "metadata": {
    "tags": []
   },
   "outputs": [
    {
     "name": "stdout",
     "output_type": "stream",
     "text": [
      "(Matrix([\n",
      "[1, 0, 0, 0, 0, -1, 0,  0,  0,  0,  0, -1,  1],\n",
      "[0, 1, 0, 0, 0, -1, 0, -1, -1,  1,  1,  0,  0],\n",
      "[0, 0, 1, 0, 0, -1, 0,  0, -1,  1,  1,  0, -1],\n",
      "[0, 0, 0, 1, 0, -1, 0,  0,  0,  1,  1,  0, -2],\n",
      "[0, 0, 0, 0, 1, -1, 0,  0,  0,  0,  1,  0, -1],\n",
      "[0, 0, 0, 0, 0,  0, 1,  1,  1, -1, -1, -1,  0]]), (0, 1, 2, 3, 4, 6))\n"
     ]
    }
   ],
   "source": [
    "#               v1,2,3,4,5,6,1,2,3,4,5,6\n",
    "M = np.matrix([[-1,1,0,0,0,0,1,0,0,0,0,0,-1],\n",
    "               [0,-1,1,0,0,0,0,1,0,0,0,0,-1],\n",
    "               [0,0,-1,1,0,0,0,0,1,0,0,0,-1],\n",
    "               [0,0,0,1,-1,0,0,0,0,1,0,0,-1],\n",
    "               [0,0,0,0,1,-1,0,0,0,0,1,0,-1],\n",
    "               [-1,0,0,0,0,1,0,0,0,0,0,1,-1]])\n",
    "M_rref =sym.Matrix(M).rref()\n",
    "print(M_rref)"
   ]
  },
  {
   "cell_type": "code",
   "execution_count": 30,
   "id": "850b3542-4971-44e3-9856-979676f89aa1",
   "metadata": {
    "tags": []
   },
   "outputs": [
    {
     "name": "stdout",
     "output_type": "stream",
     "text": [
      "[6, 9, 11, 5, 7, 2, 3, 4, 12, 8, 1, 10]  k= 6\n",
      "[6, 9, 4, 8, 12, 7, 3, 11, 2, 10, 1, 5]  k= 6\n",
      "[6, 11, 8, 12, 10, 7, 1, 9, 2, 4, 3, 5]  k= 6\n",
      "[6, 10, 7, 12, 11, 8, 2, 9, 1, 5, 3, 4]  k= 6\n",
      "[6, 2, 7, 5, 11, 9, 10, 1, 8, 12, 4, 3]  k= 6\n",
      "[6, 7, 12, 8, 4, 9, 5, 1, 10, 2, 11, 3]  k= 6\n",
      "[6, 8, 11, 12, 7, 10, 4, 3, 5, 1, 9, 2]  k= 6\n",
      "[6, 7, 10, 12, 8, 11, 5, 3, 4, 2, 9, 1]  k= 6\n",
      "[7, 6, 3, 1, 5, 2, 8, 10, 9, 11, 4, 12]  k= 7\n",
      "[7, 5, 2, 1, 6, 3, 9, 10, 8, 12, 4, 11]  k= 7\n",
      "[7, 6, 1, 5, 9, 4, 8, 12, 3, 11, 2, 10]  k= 7\n",
      "[7, 11, 6, 8, 2, 4, 3, 12, 5, 1, 9, 10]  k= 7\n",
      "[7, 3, 6, 1, 2, 5, 11, 4, 12, 8, 10, 9]  k= 7\n",
      "[7, 2, 5, 1, 3, 6, 12, 4, 11, 9, 10, 8]  k= 7\n",
      "[7, 4, 9, 5, 1, 6, 10, 2, 11, 3, 12, 8]  k= 7\n",
      "[7, 4, 2, 8, 6, 11, 10, 9, 1, 5, 12, 3]  k= 7\n",
      "16\n"
     ]
    }
   ],
   "source": [
    "count =0\n",
    "for k in range(-7,21):\n",
    "    for v6 in range(1,13):\n",
    "        for e6 in range(1,13):\n",
    "            v1=v6+e6-k\n",
    "            cycle =[v1,v6,e6]\n",
    "            if not norepet(cycle):\n",
    "                continue\n",
    "            if not inrange(cycle,1,12):\n",
    "                continue\n",
    "            for e5 in range(1,13):\n",
    "                v5=v6-e5+k\n",
    "                cycle=[v1,v5,v6,e5,e6]\n",
    "                if not norepet(cycle):\n",
    "                    continue\n",
    "                if not inrange(cycle,1,12):\n",
    "                    continue\n",
    "                for e3 in range(1,13):\n",
    "                    for e4 in range(1,13):\n",
    "                        v3= v6 +e3-e4-e5+k\n",
    "                        v4= v6-e4-e5+2*k\n",
    "                        cycle=[v1,v3,v4,v5,v6,e3,e4,e5,e6]\n",
    "                        if not norepet(cycle):\n",
    "                            continue\n",
    "                        if not inrange(cycle,1,12):\n",
    "                            continue\n",
    "                        for e2 in range(1,13):\n",
    "                            v2= v6 +e2 +e3 -e4 -e5\n",
    "                            e1= -e2-e3 +e4 +e5 +e6\n",
    "                            cycle=[v1,v2,v3,v4,v5,v6,e1,e2,e3,e4,e5,e6]\n",
    "                            if not norepet(cycle):\n",
    "                                continue\n",
    "                            if not inrange(cycle,1,12):\n",
    "                                continue\n",
    "                            count +=1\n",
    "                            print(cycle,' k=', k)\n",
    "print(count)"
   ]
  },
  {
   "cell_type": "code",
   "execution_count": null,
   "id": "ff6ed6e4-0818-4468-b046-fd925f2d1870",
   "metadata": {},
   "outputs": [],
   "source": []
  }
 ],
 "metadata": {
  "kernelspec": {
   "display_name": "mathstone-kernel",
   "language": "python",
   "name": "mathstone-kernel"
  },
  "language_info": {
   "codemirror_mode": {
    "name": "ipython",
    "version": 3
   },
   "file_extension": ".py",
   "mimetype": "text/x-python",
   "name": "python",
   "nbconvert_exporter": "python",
   "pygments_lexer": "ipython3",
   "version": "3.12.1"
  }
 },
 "nbformat": 4,
 "nbformat_minor": 5
}
