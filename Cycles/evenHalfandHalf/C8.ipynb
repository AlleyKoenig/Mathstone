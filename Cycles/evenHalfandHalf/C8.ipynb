{
 "cells": [
  {
   "cell_type": "code",
   "execution_count": 5,
   "id": "a40e43b1-3f89-4f9b-942c-0fd8b72e2683",
   "metadata": {
    "tags": []
   },
   "outputs": [],
   "source": [
    "import networkx as nx\n",
    "import plotly as ply\n",
    "import numpy as np\n",
    "import sympy as sym"
   ]
  },
  {
   "cell_type": "code",
   "execution_count": 6,
   "id": "200b56f6-a82d-45f0-b432-f7bcfefb53cb",
   "metadata": {
    "tags": []
   },
   "outputs": [],
   "source": [
    "# v1 -e1-> v2 -e2-> v3 -e3-> v4 -e4-> v5 <-e5- v66 <-e6- v7 <-e7- v8 <-e8- v1\n",
    "#-13<= k <= 30\n",
    "#-11 <= k <= 28"
   ]
  },
  {
   "cell_type": "code",
   "execution_count": 7,
   "id": "6816a062-255f-4613-a6e4-3a438779f35a",
   "metadata": {
    "tags": []
   },
   "outputs": [],
   "source": [
    "def norepet(cycle):\n",
    "    ret =True\n",
    "    NewList =[]\n",
    "    for a in cycle:\n",
    "        if a not in NewList:\n",
    "            NewList.append(a)\n",
    "        else:\n",
    "            return False\n",
    "    return ret\n",
    "def inrange(cycle,min, max):\n",
    "    ret =True\n",
    "    for a in cycle:\n",
    "        if a < min:\n",
    "            return False\n",
    "        elif a > max:\n",
    "            return False\n",
    "    return ret"
   ]
  },
  {
   "cell_type": "code",
   "execution_count": 8,
   "id": "0d4f963c-55bd-4c98-a08f-a1c18101f202",
   "metadata": {
    "tags": []
   },
   "outputs": [
    {
     "name": "stdout",
     "output_type": "stream",
     "text": [
      "(Matrix([\n",
      "[1, 0, 0, 0, 0, 0, 0, -1, 0,  0,  0,  0,  0,  0,  0, -1,  1],\n",
      "[0, 1, 0, 0, 0, 0, 0, -1, 0, -1, -1, -1,  1,  1,  1,  0,  0],\n",
      "[0, 0, 1, 0, 0, 0, 0, -1, 0,  0, -1, -1,  1,  1,  1,  0, -1],\n",
      "[0, 0, 0, 1, 0, 0, 0, -1, 0,  0,  0, -1,  1,  1,  1,  0, -2],\n",
      "[0, 0, 0, 0, 1, 0, 0, -1, 0,  0,  0,  0,  1,  1,  1,  0, -3],\n",
      "[0, 0, 0, 0, 0, 1, 0, -1, 0,  0,  0,  0,  0,  1,  1,  0, -2],\n",
      "[0, 0, 0, 0, 0, 0, 1, -1, 0,  0,  0,  0,  0,  0,  1,  0, -1],\n",
      "[0, 0, 0, 0, 0, 0, 0,  0, 1,  1,  1,  1, -1, -1, -1, -1,  0]]), (0, 1, 2, 3, 4, 5, 6, 8))\n"
     ]
    }
   ],
   "source": [
    "#               v1,2,3,4,5,6,7,8,1,2,3,4,5,6,7,8,k\n",
    "M = np.matrix([[-1,1,0,0,0,0,0,0,1,0,0,0,0,0,0,0,-1],\n",
    "               [0,-1,1,0,0,0,0,0,0,1,0,0,0,0,0,0,-1],\n",
    "               [0,0,-1,1,0,0,0,0,0,0,1,0,0,0,0,0,-1],\n",
    "               [0,0,0,-1,1,0,0,0,0,0,0,1,0,0,0,0,-1],\n",
    "               [0,0,0,0,1,-1,0,0,0,0,0,0,1,0,0,0,-1],\n",
    "               [0,0,0,0,0,1,-1,0,0,0,0,0,0,1,0,0,-1],\n",
    "               [0,0,0,0,0,0,1,-1,0,0,0,0,0,0,1,0,-1],\n",
    "               [-1,0,0,0,0,0,0,1,0,0,0,0,0,0,0,1,-1]])\n",
    "M_rref =sym.Matrix(M).rref()\n",
    "print(M_rref)"
   ]
  },
  {
   "cell_type": "code",
   "execution_count": 9,
   "id": "69ea049f-8dd7-49b7-b6d9-274139a2159a",
   "metadata": {
    "tags": []
   },
   "outputs": [
    {
     "name": "stdout",
     "output_type": "stream",
     "text": [
      "0\n"
     ]
    }
   ],
   "source": [
    "count =0\n",
    "for k in range(-11,29):\n",
    "    for v8 in range(1,17):\n",
    "        for e7 in range(1,17):\n",
    "            v7 = v8 -e7 +k\n",
    "            cycle = [v7,v8,e7]\n",
    "            if not norepet(cycle):\n",
    "                continue\n",
    "            if not inrange(cycle,1,16):\n",
    "                continue\n",
    "            for e8 in range(1,17):\n",
    "                v1 = v8 +e8 -k\n",
    "                cycle=[v1,v8,e7,e8]\n",
    "                if not norepet(cycle):\n",
    "                    continue\n",
    "                if not inrange(cycle,1,16):\n",
    "                    continue\n",
    "                for e6 in range(1,17):\n",
    "                    v6= v8 -e6 -e7 +2*k\n",
    "                    cycle=[v1,v6,v7,v8,e6,e7,e8]\n",
    "                    if not norepet(cycle):\n",
    "                        continue\n",
    "                    if not inrange(cycle,1,16):\n",
    "                        continue\n",
    "                    for e5 in range(1,17):\n",
    "                        v5= v8 -e5 -56-e7 +3*k\n",
    "                        cycle = [v1,v5,v6,v7,v8,e5,e6,e7,e8]\n",
    "                        if not norepet(cycle):\n",
    "                            continue\n",
    "                        if not inrange(cycle,1,16):\n",
    "                            continue\n",
    "                        for e4 in range(1,17):\n",
    "                            v4 = v8 +e4 -e5 -e6 -e7 +2*k\n",
    "                            cycle = [v1,v4,v5,v6,v7,v8,e4,e5,e6,e7,e8]\n",
    "                            if not norepet(cycle):\n",
    "                                continue\n",
    "                            if not inrange(cycle,1,16):\n",
    "                                continue\n",
    "                            for e3 in range(1,17):\n",
    "                                v3 = v8 +e3 +e4 -e5 -e6 -e7 +k\n",
    "                                cycle = [v1,v3,v4,v5,v6,v7,v8,e3,e4,e5,e6,e7,e8]\n",
    "                                if not norepet(cycle):\n",
    "                                    continue\n",
    "                                if not inrange(cycle,1,16):\n",
    "                                    continue\n",
    "                                for e2 in range(1,17):\n",
    "                                    v2 = v8 +e2 +e3 +e4 -e5 -e6 -e7\n",
    "                                    e1 = -e2-e3-e4+e5 +e6 +e7 +e8\n",
    "                                    cycle = [v1,v2,v3,v4,v5,v6,v7,v8,e1,e2,e3,e4,e5,e6,e7,e8]\n",
    "                                    if not norepet(cycle):\n",
    "                                        continue\n",
    "                                    if not inrange(cycle,1,16):\n",
    "                                        continue\n",
    "                                    count +=1\n",
    "                                    print(cycle, ' k=',k)\n",
    "print(count)"
   ]
  },
  {
   "cell_type": "code",
   "execution_count": null,
   "id": "779ffc79-8524-46d8-98b1-fc79e1846e55",
   "metadata": {},
   "outputs": [],
   "source": []
  }
 ],
 "metadata": {
  "kernelspec": {
   "display_name": "mathstone-kernel",
   "language": "python",
   "name": "mathstone-kernel"
  },
  "language_info": {
   "codemirror_mode": {
    "name": "ipython",
    "version": 3
   },
   "file_extension": ".py",
   "mimetype": "text/x-python",
   "name": "python",
   "nbconvert_exporter": "python",
   "pygments_lexer": "ipython3",
   "version": "3.12.1"
  }
 },
 "nbformat": 4,
 "nbformat_minor": 5
}
