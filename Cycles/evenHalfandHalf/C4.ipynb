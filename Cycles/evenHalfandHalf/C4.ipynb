{
 "cells": [
  {
   "cell_type": "code",
   "execution_count": 23,
   "id": "f643f61c-5f25-47d8-b1a8-23869a42e535",
   "metadata": {
    "tags": []
   },
   "outputs": [],
   "source": [
    "import networkx as nx\n",
    "import plotly as ply\n",
    "import numpy as np\n",
    "import sympy as sym"
   ]
  },
  {
   "cell_type": "code",
   "execution_count": 24,
   "id": "5f6f38e5-a6f4-4609-a8dd-d786d6bcec9b",
   "metadata": {
    "tags": []
   },
   "outputs": [],
   "source": [
    "# v1 -e1-> v2 -e2-> v3 <-e3- v4 <-e4- v1\n",
    "# -3 <=k <= 12\n",
    "#-5 <= k <= 14"
   ]
  },
  {
   "cell_type": "code",
   "execution_count": 25,
   "id": "69797418-5097-4bad-bf78-f6398cd4b8dd",
   "metadata": {
    "tags": []
   },
   "outputs": [],
   "source": [
    "def norepet(cycle):\n",
    "    ret =True\n",
    "    NewList =[]\n",
    "    for a in cycle:\n",
    "        if a not in NewList:\n",
    "            NewList.append(a)\n",
    "        else:\n",
    "            return False\n",
    "    return ret\n",
    "def inrange(cycle,min, max):\n",
    "    ret =True\n",
    "    for a in cycle:\n",
    "        if a < min:\n",
    "            return False\n",
    "        elif a > max:\n",
    "            return False\n",
    "    return ret"
   ]
  },
  {
   "cell_type": "code",
   "execution_count": 26,
   "id": "9badab0c-d1c0-45ba-9004-293117278d94",
   "metadata": {
    "tags": []
   },
   "outputs": [
    {
     "name": "stdout",
     "output_type": "stream",
     "text": [
      "(Matrix([\n",
      "[1, 0, 0, -1, 0,  0,  0, -1,  1],\n",
      "[0, 1, 0, -1, 0, -1,  1,  0,  0],\n",
      "[0, 0, 1, -1, 0,  0,  1,  0, -1],\n",
      "[0, 0, 0,  0, 1,  1, -1, -1,  0]]), (0, 1, 2, 4))\n"
     ]
    }
   ],
   "source": [
    "M = np.matrix([[-1,1,0,0,1,0,0,0,-1],\n",
    "               [0,-1,1,0,0,1,0,0,-1],\n",
    "               [0,0,1,-1,0,0,1,0,-1],\n",
    "               [-1,0,0,1,0,0,0,1,-1]])\n",
    "M_rref =sym.Matrix(M).rref()\n",
    "print(M_rref)"
   ]
  },
  {
   "cell_type": "code",
   "execution_count": 27,
   "id": "51b57588-7480-4354-a4bb-207afcecdb81",
   "metadata": {
    "tags": []
   },
   "outputs": [
    {
     "name": "stdout",
     "output_type": "stream",
     "text": [
      "0\n"
     ]
    }
   ],
   "source": [
    "count=0\n",
    "for k in range(-3,12):\n",
    "    for v4 in range(1,9):\n",
    "        for e4 in range(1,9):\n",
    "            v1=v4+e4-k\n",
    "            cycle=[v1,v4,e4]\n",
    "            if not norepet(cycle):\n",
    "                continue\n",
    "            if not inrange(cycle,1,8):\n",
    "                continue\n",
    "            for e3 in range(1,9):\n",
    "                v3=v4 -e3 +k\n",
    "                cycle=[v1,v3,v4,e3,e4]\n",
    "                if not norepet(cycle):\n",
    "                    continue\n",
    "                if not inrange(cycle,1,8):\n",
    "                    continue\n",
    "                for e2 in range(1,9):\n",
    "                    v2= v4+e2-e3\n",
    "                    e1=-e2+e3+e4\n",
    "                    cycle=[v1,v2,v3,v4,e1,e2,e3,e4]\n",
    "                    if not norepet(cycle):\n",
    "                        continue\n",
    "                    if not inrange(cycle,1,8):\n",
    "                        continue\n",
    "                    count += 1\n",
    "                    print(cycle, ' k=',k)\n",
    "print(count)\n"
   ]
  },
  {
   "cell_type": "code",
   "execution_count": null,
   "id": "72971ea9-3848-49a0-bd9e-dfdad83ffe5c",
   "metadata": {},
   "outputs": [],
   "source": []
  }
 ],
 "metadata": {
  "kernelspec": {
   "display_name": "mathstone-kernel",
   "language": "python",
   "name": "mathstone-kernel"
  },
  "language_info": {
   "codemirror_mode": {
    "name": "ipython",
    "version": 3
   },
   "file_extension": ".py",
   "mimetype": "text/x-python",
   "name": "python",
   "nbconvert_exporter": "python",
   "pygments_lexer": "ipython3",
   "version": "3.12.1"
  }
 },
 "nbformat": 4,
 "nbformat_minor": 5
}
