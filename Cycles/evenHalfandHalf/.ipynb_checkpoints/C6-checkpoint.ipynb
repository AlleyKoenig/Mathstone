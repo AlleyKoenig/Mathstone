{
 "cells": [
  {
   "cell_type": "code",
   "execution_count": 1,
   "id": "50376f60-133c-45ac-9fc6-d61a55e9d776",
   "metadata": {
    "tags": []
   },
   "outputs": [],
   "source": [
    "import networkx as nx\n",
    "import plotly as ply\n",
    "import numpy as np\n",
    "import sympy as sym"
   ]
  },
  {
   "cell_type": "code",
   "execution_count": 2,
   "id": "f1d88e95-60fd-4b51-a654-949aa0f99fca",
   "metadata": {
    "tags": []
   },
   "outputs": [],
   "source": [
    "# v1 -e1-> v2 -e2-> v3 <-e3- v4 <-e4- v5 -e5-> v6 <-e6- v1\n",
    "\n",
    "#-7 <= k<= 20"
   ]
  },
  {
   "cell_type": "code",
   "execution_count": 3,
   "id": "aba0f710-4c63-48ed-82ed-192154dad0e4",
   "metadata": {
    "tags": []
   },
   "outputs": [],
   "source": [
    "def norepet(cycle):\n",
    "    ret =True\n",
    "    NewList =[]\n",
    "    for a in cycle:\n",
    "        if a not in NewList:\n",
    "            NewList.append(a)\n",
    "        else:\n",
    "            return False\n",
    "    return ret\n",
    "def inrange(cycle,min, max):\n",
    "    ret =True\n",
    "    for a in cycle:\n",
    "        if a < min:\n",
    "            return False\n",
    "        elif a > max:\n",
    "            return False\n",
    "    return ret"
   ]
  },
  {
   "cell_type": "code",
   "execution_count": 4,
   "id": "dade5f9c-840a-40aa-8c57-587a9df78bed",
   "metadata": {
    "tags": []
   },
   "outputs": [
    {
     "name": "stdout",
     "output_type": "stream",
     "text": [
      "(Matrix([\n",
      "[1, 0, 0, 0, 0, -1, 0,  0,  0,  0,  0, -1,  1],\n",
      "[0, 1, 0, 0, 0, -1, 0, -1,  1,  1, -1,  0,  0],\n",
      "[0, 0, 1, 0, 0, -1, 0,  0,  1,  1, -1,  0, -1],\n",
      "[0, 0, 0, 1, 0, -1, 0,  0,  0,  1, -1,  0,  0],\n",
      "[0, 0, 0, 0, 1, -1, 0,  0,  0,  0, -1,  0,  1],\n",
      "[0, 0, 0, 0, 0,  0, 1,  1, -1, -1,  1, -1,  0]]), (0, 1, 2, 3, 4, 6))\n"
     ]
    }
   ],
   "source": [
    "M = np.matrix([[-1,1,0,0,0,0,1,0,0,0,0,0,-1],\n",
    "               [0,-1,1,0,0,0,0,1,0,0,0,0,-1],\n",
    "               [0,0,1,-1,0,0,0,0,1,0,0,0,-1],\n",
    "               [0,0,0,1,-1,0,0,0,0,1,0,0,-1],\n",
    "               [0,0,0,0,-1,1,0,0,0,0,1,0,-1],\n",
    "               [-1,0,0,0,0,1,0,0,0,0,0,1,-1]])\n",
    "M_rref =sym.Matrix(M).rref()\n",
    "print(M_rref)"
   ]
  },
  {
   "cell_type": "code",
   "execution_count": null,
   "id": "850b3542-4971-44e3-9856-979676f89aa1",
   "metadata": {},
   "outputs": [],
   "source": [
    "count =0\n",
    "for k in range(-7,21):\n",
    "    for v6 in range (1,13):\n",
    "        for e6 in range(1,13):\n",
    "            v1 = v6 +e6 -k\n",
    "            cycle=[v1,v6,e6]\n",
    "            if not norepet(cycle):\n",
    "                continue\n",
    "            if not inrange(cycle,1,12):\n",
    "                continue\n",
    "            for e5 in range(1,13):\n",
    "                v5 = v6 +e5\n",
    "                cycle=[v1,v5,v6,e5,e6]\n",
    "                if not norepet(cycle):\n",
    "                    continue\n",
    "                if not inrange(cycle,1,12):\n",
    "                    continue\n",
    "                for e4 in range(1,13):\n",
    "                    v4=v6 +e5\n",
    "                    cycle=[v1,v4,v5,v6,e4,e5,e6]\n",
    "                    if not norepet(cycle):\n",
    "                        continue\n",
    "                    if not inrange(cycle,1,12):\n",
    "                        continue\n",
    "                    for e3 in range(1,13):\n",
    "                        v3=v6-e3-e4+e5+k\n",
    "                        cycle=[v1,v3,v4,v5,v6,e3,e4,e5,e6]\n",
    "                        if not norepet(cycle):\n",
    "                            continue\n",
    "                        if not inrange(cycle,1,12):\n",
    "                            continue\n",
    "                        for e2 in range"
   ]
  }
 ],
 "metadata": {
  "kernelspec": {
   "display_name": "mathstone-kernel",
   "language": "python",
   "name": "mathstone-kernel"
  },
  "language_info": {
   "codemirror_mode": {
    "name": "ipython",
    "version": 3
   },
   "file_extension": ".py",
   "mimetype": "text/x-python",
   "name": "python",
   "nbconvert_exporter": "python",
   "pygments_lexer": "ipython3",
   "version": "3.12.1"
  }
 },
 "nbformat": 4,
 "nbformat_minor": 5
}
