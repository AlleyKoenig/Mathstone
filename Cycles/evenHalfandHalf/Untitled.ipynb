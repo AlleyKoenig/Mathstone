{
 "cells": [
  {
   "cell_type": "code",
   "execution_count": 2,
   "id": "abab3c50-4143-4250-b222-8e28c38e328c",
   "metadata": {
    "tags": []
   },
   "outputs": [],
   "source": [
    "import networkx as nx\n",
    "import plotly as ply\n",
    "import numpy as np\n",
    "import sympy as sym"
   ]
  },
  {
   "cell_type": "code",
   "execution_count": 4,
   "id": "bacf3f1b-0c97-4849-b37e-8973990f90a0",
   "metadata": {
    "tags": []
   },
   "outputs": [
    {
     "name": "stdout",
     "output_type": "stream",
     "text": [
      "(Matrix([\n",
      "[1, 0, 0, 0, 0, 0, 0,  1,  0, 0, -2,  46],\n",
      "[0, 1, 0, 0, 0, 0, 0, -1,  1, 0,  1,  -4],\n",
      "[0, 0, 1, 0, 0, 0, 0,  0,  1, 0,  1,  -6],\n",
      "[0, 0, 0, 1, 0, 0, 0,  0,  0, 0,  1,  -4],\n",
      "[0, 0, 0, 0, 1, 0, 0,  0,  0, 0,  1,  -4],\n",
      "[0, 0, 0, 0, 0, 1, 0, -1,  0, 0,  2, -50],\n",
      "[0, 0, 0, 0, 0, 0, 1,  2, -1, 0, -3,  48],\n",
      "[0, 0, 0, 0, 0, 0, 0,  0,  0, 1,  0,  -2]]), (0, 1, 2, 3, 4, 5, 6, 9))\n"
     ]
    }
   ],
   "source": [
    "#               v2,3,4,5,6,1,2,3,4,5,6,n,1\n",
    "n=3\n",
    "M = np.matrix([[1,0,0,0,0,1,0,0,0,0,0,-4],\n",
    "               [-1,1,0,0,0,0,1,0,0,0,0,-2],\n",
    "               [0,-1,1,0,0,0,0,1,0,0,0,-2],\n",
    "               [0,0,1,-1,0,0,0,0,1,0,0,-2],\n",
    "               [0,0,0,-1,1,0,0,0,0,1,0,-2],\n",
    "               [0,0,0,0,1,0,0,0,0,0,1,-4],\n",
    "               [1,1,1,1,1,1,1,1,1,1,1,8*n],\n",
    "               [0,0,0,0,0,1,1,1,-1,-1,-1,0]])\n",
    "M_rref =sym.Matrix(M).rref()\n",
    "print(M_rref)"
   ]
  },
  {
   "cell_type": "code",
   "execution_count": null,
   "id": "3d660fbe-ad92-4563-b2d9-ba6c33c5dc95",
   "metadata": {},
   "outputs": [],
   "source": []
  }
 ],
 "metadata": {
  "kernelspec": {
   "display_name": "mathstone-kernel",
   "language": "python",
   "name": "mathstone-kernel"
  },
  "language_info": {
   "codemirror_mode": {
    "name": "ipython",
    "version": 3
   },
   "file_extension": ".py",
   "mimetype": "text/x-python",
   "name": "python",
   "nbconvert_exporter": "python",
   "pygments_lexer": "ipython3",
   "version": "3.12.1"
  }
 },
 "nbformat": 4,
 "nbformat_minor": 5
}
