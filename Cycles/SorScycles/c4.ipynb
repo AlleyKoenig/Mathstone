{
 "cells": [
  {
   "cell_type": "code",
   "execution_count": 1,
   "id": "a482e3bd-2aef-4bec-803d-a3052c47c35a",
   "metadata": {
    "tags": []
   },
   "outputs": [],
   "source": [
    "import networkx as nx\n",
    "import plotly as ply\n",
    "import numpy as np\n",
    "import sympy as sym"
   ]
  },
  {
   "cell_type": "code",
   "execution_count": 17,
   "id": "b490f8ae-2fee-403c-b7c2-352326654b90",
   "metadata": {
    "tags": []
   },
   "outputs": [],
   "source": [
    "def norepet(cycle):\n",
    "    ret =True\n",
    "    NewList =[]\n",
    "    for a in cycle:\n",
    "        if a not in NewList:\n",
    "            NewList.append(a)\n",
    "        else:\n",
    "            return False\n",
    "    return ret\n",
    "def inrange(cycle,min, max):\n",
    "    ret =True\n",
    "    for a in cycle:\n",
    "        if a < min:\n",
    "            return False\n",
    "        elif a > max:\n",
    "            return False\n",
    "        if not(a%1 ==0):\n",
    "            return False\n",
    "    return ret"
   ]
  },
  {
   "cell_type": "code",
   "execution_count": 18,
   "id": "db20606b-5933-4023-8195-3ef007615d37",
   "metadata": {
    "tags": []
   },
   "outputs": [],
   "source": [
    "# v1 <-e1- v2 -e2-> v3 <-e3- v4 -e4->v1\n",
    "#2n +1 -(v+e) ≤ k ≤ 2(v+e) -2n\n",
    "#-3 <= k <= 12"
   ]
  },
  {
   "cell_type": "code",
   "execution_count": 28,
   "id": "390529d4-6c11-43b4-bd7d-be785c4c4ba2",
   "metadata": {
    "tags": []
   },
   "outputs": [
    {
     "name": "stdout",
     "output_type": "stream",
     "text": [
      "(Matrix([\n",
      "[1, 0, 0, -1, 0,  0, 0,  1, -1, 0],\n",
      "[0, 1, 0, -1, 0, -1, 1,  0,  0, 0],\n",
      "[0, 0, 1, -1, 0,  0, 1,  0, -1, 0],\n",
      "[0, 0, 0,  0, 1, -1, 1, -1,  0, 0]]), (0, 1, 2, 4))\n"
     ]
    }
   ],
   "source": [
    "#              v1,2,3,4,1,2,3,4,k\n",
    "M = np.matrix([[1,-1,0,0,1,0,0,0,-1,0],\n",
    "               [0,-1,1,0,0,1,0,0,-1,0],\n",
    "               [0,0,1,-1,0,0,1,0,-1,0],\n",
    "               [1,0,0,-1,0,0,0,1,-1,0]])\n",
    "M_rref =sym.Matrix(M).rref()\n",
    "print(M_rref)"
   ]
  },
  {
   "cell_type": "code",
   "execution_count": 30,
   "id": "a80f692e-17c4-4609-a088-31aa8d0b250d",
   "metadata": {
    "tags": []
   },
   "outputs": [
    {
     "name": "stdout",
     "output_type": "stream",
     "text": [
      "[4, 8, 1, 7, 3, 6, 5, 2]  k= -1\n",
      "[1, 8, 4, 7, 6, 3, 2, 5]  k= -1\n",
      "[4, 7, 1, 8, 2, 5, 6, 3]  k= -1\n",
      "[1, 7, 4, 8, 5, 2, 3, 6]  k= -1\n",
      "[2, 8, 1, 5, 6, 7, 4, 3]  k= 0\n",
      "[1, 8, 2, 5, 7, 6, 3, 4]  k= 0\n",
      "[6, 8, 3, 7, 2, 5, 4, 1]  k= 0\n",
      "[3, 8, 6, 7, 5, 2, 1, 4]  k= 0\n",
      "[6, 7, 3, 8, 1, 4, 5, 2]  k= 0\n",
      "[3, 7, 6, 8, 4, 1, 2, 5]  k= 0\n",
      "[2, 5, 1, 8, 3, 4, 7, 6]  k= 0\n",
      "[1, 5, 2, 8, 4, 3, 6, 7]  k= 0\n",
      "[2, 3, 1, 6, 4, 5, 8, 7]  k= 3\n",
      "[1, 3, 2, 6, 5, 4, 7, 8]  k= 3\n",
      "[5, 3, 4, 8, 1, 2, 7, 6]  k= 3\n",
      "[4, 3, 5, 8, 2, 1, 6, 7]  k= 3\n",
      "[6, 4, 1, 5, 2, 7, 8, 3]  k= 4\n",
      "[1, 4, 6, 5, 7, 2, 3, 8]  k= 4\n",
      "[8, 5, 3, 4, 2, 7, 6, 1]  k= 5\n",
      "[3, 5, 8, 4, 7, 2, 1, 6]  k= 5\n",
      "[5, 6, 4, 1, 7, 8, 3, 2]  k= 6\n",
      "[4, 6, 5, 1, 8, 7, 2, 3]  k= 6\n",
      "[8, 6, 7, 3, 4, 5, 2, 1]  k= 6\n",
      "[7, 6, 8, 3, 5, 4, 1, 2]  k= 6\n",
      "[8, 4, 7, 1, 5, 6, 3, 2]  k= 9\n",
      "[7, 4, 8, 1, 6, 5, 2, 3]  k= 9\n",
      "[6, 2, 3, 1, 5, 8, 7, 4]  k= 9\n",
      "[3, 2, 6, 1, 8, 5, 4, 7]  k= 9\n",
      "[6, 1, 3, 2, 4, 7, 8, 5]  k= 9\n",
      "[3, 1, 6, 2, 7, 4, 5, 8]  k= 9\n",
      "[8, 1, 7, 4, 2, 3, 6, 5]  k= 9\n",
      "[7, 1, 8, 4, 3, 2, 5, 6]  k= 9\n",
      "[8, 2, 5, 1, 4, 7, 6, 3]  k= 10\n",
      "[5, 2, 8, 1, 7, 4, 3, 6]  k= 10\n",
      "[8, 1, 5, 2, 3, 6, 7, 4]  k= 10\n",
      "[5, 1, 8, 2, 6, 3, 4, 7]  k= 10\n",
      "36\n"
     ]
    }
   ],
   "source": [
    "count =0\n",
    "for k in range(-3,1):\n",
    "    for v4 in range(1,9):\n",
    "        for e4 in range(1,9):\n",
    "            v1 =v4 -e4 +k\n",
    "            cycle = [v1,v4,e4]\n",
    "            if not(norepet(cycle) and inrange(cycle,1, 8)):\n",
    "                continue\n",
    "            for e2 in range(1,9):\n",
    "                for e3 in range(1,9):\n",
    "                    v2 = v4 +e2-e3\n",
    "                    v3 = v4 -e3 +k\n",
    "                    e1 = e2 -e3 +e4\n",
    "                    cycle=[v1,v2,v3,v4,e1,e2,e3,e4]\n",
    "                    if not(norepet(cycle) and inrange(cycle,1, 8)):\n",
    "                        continue\n",
    "                    count += 1\n",
    "                    print(cycle, ' k=',k)\n",
    "for k in range(1,9):\n",
    "    for v4 in range(1,9):\n",
    "        for e4 in range(1,9):\n",
    "            v1 =v4 -e4 +k\n",
    "            cycle = [v1,v4,e4]\n",
    "            if not(norepet(cycle) and inrange(cycle,1, 8)):\n",
    "                continue\n",
    "            for e2 in range(1,9):\n",
    "                for e3 in range(1,9):\n",
    "                    v2 = v4 +e2-e3\n",
    "                    if not(v2==k):\n",
    "                        continue\n",
    "                    v3 = v4 -e3 +k\n",
    "                    e1 = e2 -e3 +e4\n",
    "                    cycle=[v1,v2,v3,v4,e1,e2,e3,e4]\n",
    "                    if not(norepet(cycle) and inrange(cycle,1, 8)):\n",
    "                        continue\n",
    "                    count += 1\n",
    "                    print(cycle, ' k=',k)\n",
    "for k in range(9,13):\n",
    "    for v4 in range(1,9):\n",
    "        for e4 in range(1,9):\n",
    "            v1 =v4 -e4 +k\n",
    "            cycle = [v1,v4,e4]\n",
    "            if not(norepet(cycle) and inrange(cycle,1, 8)):\n",
    "                continue\n",
    "            for e2 in range(1,9):\n",
    "                for e3 in range(1,9):\n",
    "                    v2 = v4 +e2-e3\n",
    "                    v3 = v4 -e3 +k\n",
    "                    e1 = e2 -e3 +e4\n",
    "                    cycle=[v1,v2,v3,v4,e1,e2,e3,e4]\n",
    "                    if not(norepet(cycle) and inrange(cycle,1, 8)):\n",
    "                        continue\n",
    "                    count += 1\n",
    "                    print(cycle, ' k=',k)\n",
    "print(count)"
   ]
  },
  {
   "cell_type": "code",
   "execution_count": null,
   "id": "350f690c-4181-4622-bd90-ea8393f9e9f9",
   "metadata": {},
   "outputs": [],
   "source": []
  }
 ],
 "metadata": {
  "kernelspec": {
   "display_name": "mathstone-kernel",
   "language": "python",
   "name": "mathstone-kernel"
  },
  "language_info": {
   "codemirror_mode": {
    "name": "ipython",
    "version": 3
   },
   "file_extension": ".py",
   "mimetype": "text/x-python",
   "name": "python",
   "nbconvert_exporter": "python",
   "pygments_lexer": "ipython3",
   "version": "3.12.1"
  }
 },
 "nbformat": 4,
 "nbformat_minor": 5
}
