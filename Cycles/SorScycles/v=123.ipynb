{
 "cells": [
  {
   "cell_type": "code",
   "execution_count": 1,
   "id": "ac67bac3-dd96-4941-8bad-8d1fc3b8754c",
   "metadata": {
    "tags": []
   },
   "outputs": [],
   "source": [
    "import networkx as nx\n",
    "import plotly as ply\n",
    "import numpy as np\n",
    "import sympy as sym"
   ]
  },
  {
   "cell_type": "code",
   "execution_count": 2,
   "id": "354e711b-d359-4bda-bca2-4ac501480f68",
   "metadata": {
    "tags": []
   },
   "outputs": [],
   "source": [
    "def norepet(cycle):\n",
    "    ret =True\n",
    "    NewList =[]\n",
    "    for a in cycle:\n",
    "        if a not in NewList:\n",
    "            NewList.append(a)\n",
    "        else:\n",
    "            return False\n",
    "    return ret\n",
    "def inrange(cycle,min, max):\n",
    "    ret =True\n",
    "    for a in cycle:\n",
    "        if a < min:\n",
    "            return False\n",
    "        elif a > max:\n",
    "            return False\n",
    "        if not(a%1 ==0):\n",
    "            return False\n",
    "    return ret"
   ]
  },
  {
   "cell_type": "code",
   "execution_count": 3,
   "id": "a2cfcecd-9162-43b4-acfc-d45ec71810b8",
   "metadata": {
    "tags": []
   },
   "outputs": [],
   "source": [
    "#c6\n",
    "#2n +1 -(v+e) ≤ k ≤ 2(v+e) -2n\n",
    "#-7≤k≤ 20"
   ]
  },
  {
   "cell_type": "code",
   "execution_count": 57,
   "id": "8295a696-eff7-454e-9b4c-625e892c32cf",
   "metadata": {
    "tags": []
   },
   "outputs": [],
   "source": [
    "array=[]\n",
    "x=3\n",
    "e=x\n",
    "n=1\n",
    "for v in range(0,x):\n",
    "    block = []\n",
    "    for i in range(0,3*x +2):\n",
    "        block.append(0)\n",
    "    block[v] = -1\n",
    "    block[e] = 1\n",
    "    block[-2] = -1\n",
    "    if n == x+1:\n",
    "        block[-1]= 1\n",
    "    else:\n",
    "        block[-1] = n\n",
    "    array.append(block)\n",
    "    e+=1\n",
    "    n+=1\n",
    "    block = []\n",
    "    for i in range(0,3*x +2):\n",
    "        block.append(0)\n",
    "    block[v] = -1\n",
    "    block[e] = 1\n",
    "    block[-2] = -1\n",
    "    if n ==x+1:\n",
    "        block[-1] =1\n",
    "    else:\n",
    "        block[-1]=n\n",
    "    array.append(block)\n",
    "    e+=1\n"
   ]
  },
  {
   "cell_type": "code",
   "execution_count": 58,
   "id": "da38c1cf-57de-47fe-b0a5-ba856bb95eb8",
   "metadata": {
    "tags": []
   },
   "outputs": [
    {
     "name": "stdout",
     "output_type": "stream",
     "text": [
      "[[-1  0  0  1  0  0  0  0  0 -1  1]\n",
      " [-1  0  0  0  1  0  0  0  0 -1  2]\n",
      " [ 0 -1  0  0  0  1  0  0  0 -1  2]\n",
      " [ 0 -1  0  0  0  0  1  0  0 -1  3]\n",
      " [ 0  0 -1  0  0  0  0  1  0 -1  3]\n",
      " [ 0  0 -1  0  0  0  0  0  1 -1  1]]\n",
      "(Matrix([\n",
      "[1, 0, 0, 0, -1, 0,  0, 0,  0, 1, -2],\n",
      "[0, 1, 0, 0,  0, 0, -1, 0,  0, 1, -3],\n",
      "[0, 0, 1, 0,  0, 0,  0, 0, -1, 1, -1],\n",
      "[0, 0, 0, 1, -1, 0,  0, 0,  0, 0, -1],\n",
      "[0, 0, 0, 0,  0, 1, -1, 0,  0, 0, -1],\n",
      "[0, 0, 0, 0,  0, 0,  0, 1, -1, 0,  2]]), (0, 1, 2, 3, 5, 7))\n"
     ]
    }
   ],
   "source": [
    "#               v2,4,6,1,2,3,4,5,6,k,c\n",
    "M = np.matrix(array)\n",
    "print(M)       \n",
    "M_rref =sym.Matrix(M).rref()\n",
    "print(M_rref)"
   ]
  },
  {
   "cell_type": "code",
   "execution_count": 60,
   "id": "08bb5595-5b7c-4d91-ab3a-bb707ab5a4e6",
   "metadata": {
    "tags": []
   },
   "outputs": [
    {
     "name": "stdout",
     "output_type": "stream",
     "text": [
      "[[1, 2, 3], [6, 10, 12], [5, 4, 8, 7, 9, 11]] k=  0\n",
      "[[1, 2, 3], [12, 7, 9], [11, 10, 5, 4, 6, 8]] k=  0\n",
      "[[1, 2, 3], [6, 10, 4], [9, 8, 12, 11, 5, 7]] k=  4\n",
      "[[1, 2, 3], [9, 4, 7], [12, 11, 6, 5, 8, 10]] k=  4\n",
      "4\n"
     ]
    }
   ],
   "source": [
    "count = 0\n",
    "for k in range(-7,21):\n",
    "    for e2 in range(1,13):\n",
    "        v2 = e2 -k +2\n",
    "        e1 = e2+1\n",
    "        cycle = [1,2,3,v2,e1,e2]\n",
    "        if not(norepet(cycle) and inrange(cycle,1, 12)):\n",
    "            continue\n",
    "        for e4 in range(1,13):\n",
    "            v4 = e4 -k +3\n",
    "            e3 = e4+1\n",
    "            cycle = [1,2,3,v2,v4,e1,e2,e3,e4]\n",
    "            if not(norepet(cycle) and inrange(cycle,1, 12)):\n",
    "                continue\n",
    "            for e6 in range(1,13):\n",
    "                v6 = e6 -k +1\n",
    "                e5 = e6-2\n",
    "                cycle = [1,2,3,v2,v4,v6,e1,e2,e3,e4,e5,e6]\n",
    "                if not(norepet(cycle) and inrange(cycle,1, 12)):\n",
    "                    continue \n",
    "                print([[1,2,3],[v2,v4,v6],[e1,e2,e3,e4,e5,e6]],\"k= \",k)\n",
    "                count +=1\n",
    "print(count)"
   ]
  },
  {
   "cell_type": "code",
   "execution_count": null,
   "id": "8b8472ae-2c0b-41d4-9757-c572ba7075df",
   "metadata": {},
   "outputs": [],
   "source": [
    "# end of c6"
   ]
  },
  {
   "cell_type": "code",
   "execution_count": 13,
   "id": "a1c7cc78-6cc6-47b9-9595-03f9bff51d85",
   "metadata": {
    "tags": []
   },
   "outputs": [],
   "source": [
    "#c8\n",
    "#2n +1 -(v+e) ≤ k ≤ 2(v+e) -2n\n",
    "#-11≤ k≤ 28"
   ]
  },
  {
   "cell_type": "code",
   "execution_count": 59,
   "id": "4da8ef4e-ad4c-4496-a355-49ccd3999802",
   "metadata": {
    "tags": []
   },
   "outputs": [
    {
     "name": "stdout",
     "output_type": "stream",
     "text": [
      "[[-1  0  0  0  1  0  0  0  0  0  0  0 -1  1]\n",
      " [-1  0  0  0  0  1  0  0  0  0  0  0 -1  2]\n",
      " [ 0 -1  0  0  0  0  1  0  0  0  0  0 -1  2]\n",
      " [ 0 -1  0  0  0  0  0  1  0  0  0  0 -1  3]\n",
      " [ 0  0 -1  0  0  0  0  0  1  0  0  0 -1  3]\n",
      " [ 0  0 -1  0  0  0  0  0  0  1  0  0 -1  4]\n",
      " [ 0  0  0 -1  0  0  0  0  0  0  1  0 -1  4]\n",
      " [ 0  0  0 -1  0  0  0  0  0  0  0  1 -1  1]]\n",
      "(Matrix([\n",
      "[1, 0, 0, 0, 0, -1, 0,  0, 0,  0, 0,  0, 1, -2],\n",
      "[0, 1, 0, 0, 0,  0, 0, -1, 0,  0, 0,  0, 1, -3],\n",
      "[0, 0, 1, 0, 0,  0, 0,  0, 0, -1, 0,  0, 1, -4],\n",
      "[0, 0, 0, 1, 0,  0, 0,  0, 0,  0, 0, -1, 1, -1],\n",
      "[0, 0, 0, 0, 1, -1, 0,  0, 0,  0, 0,  0, 0, -1],\n",
      "[0, 0, 0, 0, 0,  0, 1, -1, 0,  0, 0,  0, 0, -1],\n",
      "[0, 0, 0, 0, 0,  0, 0,  0, 1, -1, 0,  0, 0, -1],\n",
      "[0, 0, 0, 0, 0,  0, 0,  0, 0,  0, 1, -1, 0,  3]]), (0, 1, 2, 3, 4, 6, 8, 10))\n"
     ]
    }
   ],
   "source": [
    "array=[]\n",
    "x=4\n",
    "e=x\n",
    "n=1\n",
    "for v in range(0,x):\n",
    "    block = []\n",
    "    for i in range(0,3*x +2):\n",
    "        block.append(0)\n",
    "    block[v] = -1\n",
    "    block[e] = 1\n",
    "    block[-2] = -1\n",
    "    if n == x+1:\n",
    "        block[-1]= 1\n",
    "    else:\n",
    "        block[-1] = n\n",
    "    array.append(block)\n",
    "    e+=1\n",
    "    n+=1\n",
    "    block = []\n",
    "    for i in range(0,3*x +2):\n",
    "        block.append(0)\n",
    "    block[v] = -1\n",
    "    block[e] = 1\n",
    "    block[-2] = -1\n",
    "    if n ==x+1:\n",
    "        block[-1] =1\n",
    "    else:\n",
    "        block[-1]=n\n",
    "    array.append(block)\n",
    "    e+=1\n",
    "M = np.matrix(array)\n",
    "print(M)       \n",
    "M_rref =sym.Matrix(M).rref()\n",
    "print(M_rref)"
   ]
  },
  {
   "cell_type": "code",
   "execution_count": 61,
   "id": "ba82a477-c5ef-4176-af89-e3217b6424cf",
   "metadata": {
    "tags": []
   },
   "outputs": [
    {
     "name": "stdout",
     "output_type": "stream",
     "text": [
      "count 0\n"
     ]
    }
   ],
   "source": [
    "count = 0\n",
    "for k in range(-11,29):\n",
    "    for e2 in range (1,17):\n",
    "        v2 = e2 -k +2\n",
    "        e1 = e2+1\n",
    "        cycle = [1,2,3,4,v2,e1,e2]\n",
    "        if not(norepet(cycle) and inrange(cycle,1, 16)):\n",
    "            continue\n",
    "        for e4 in range(1,17):\n",
    "            v4= e4 -k +3\n",
    "            e3 = e4 +1\n",
    "            cycle = [1,2,3,4,v2,v4,e1,e2,e3,e4]\n",
    "            if not(norepet(cycle) and inrange(cycle,1, 16)):\n",
    "                continue\n",
    "            for e6 in range(1,17):\n",
    "                v6 = e6 -k +4\n",
    "                e5 =e6 +1\n",
    "                cycle = [1,2,3,4,v2,v4,v6,e1,e2,e3,e4,e5,e6]\n",
    "                if not(norepet(cycle) and inrange(cycle,1, 16)):\n",
    "                    continue\n",
    "                for e8 in range(1,17):\n",
    "                    v8 =e8 -k +1\n",
    "                    e7 = e8 -3\n",
    "                    cycle = [1,2,3,4,v2,v4,v6,v8,e1,e2,e3,e4,e5,e6,e7,e8]\n",
    "                    if not(norepet(cycle) and inrange(cycle,1, 16)):\n",
    "                        continue\n",
    "                    count +=1\n",
    "                    print([[1,2,3,4],[v2,v4,v6,v8],[e1,e2,e3,e4,e5,e6,e7,e8]],\"k= \",k)\n",
    "print(\"count\", count)"
   ]
  },
  {
   "cell_type": "code",
   "execution_count": null,
   "id": "6b10b7a3-5c95-462a-96c7-fa61b310e2c1",
   "metadata": {},
   "outputs": [],
   "source": [
    "#end of c8"
   ]
  },
  {
   "cell_type": "code",
   "execution_count": 21,
   "id": "33f8bc40-da1e-4970-a9a2-53c0d7c25063",
   "metadata": {
    "tags": []
   },
   "outputs": [],
   "source": [
    "# c10\n",
    "#2n +1 -(v+e) ≤ k ≤ 2(v+e) -2n\n",
    "# -15≤ k ≤ 36"
   ]
  },
  {
   "cell_type": "code",
   "execution_count": 62,
   "id": "29140cae-a9f7-47dd-8d79-8cbd4020b9cd",
   "metadata": {
    "tags": []
   },
   "outputs": [
    {
     "name": "stdout",
     "output_type": "stream",
     "text": [
      "[[-1  0  0  0  0  1  0  0  0  0  0  0  0  0  0 -1  1]\n",
      " [-1  0  0  0  0  0  1  0  0  0  0  0  0  0  0 -1  2]\n",
      " [ 0 -1  0  0  0  0  0  1  0  0  0  0  0  0  0 -1  2]\n",
      " [ 0 -1  0  0  0  0  0  0  1  0  0  0  0  0  0 -1  3]\n",
      " [ 0  0 -1  0  0  0  0  0  0  1  0  0  0  0  0 -1  3]\n",
      " [ 0  0 -1  0  0  0  0  0  0  0  1  0  0  0  0 -1  4]\n",
      " [ 0  0  0 -1  0  0  0  0  0  0  0  1  0  0  0 -1  4]\n",
      " [ 0  0  0 -1  0  0  0  0  0  0  0  0  1  0  0 -1  5]\n",
      " [ 0  0  0  0 -1  0  0  0  0  0  0  0  0  1  0 -1  5]\n",
      " [ 0  0  0  0 -1  0  0  0  0  0  0  0  0  0  1 -1  1]]\n",
      "(Matrix([\n",
      "[1, 0, 0, 0, 0, 0, -1, 0,  0, 0,  0, 0,  0, 0,  0, 1, -2],\n",
      "[0, 1, 0, 0, 0, 0,  0, 0, -1, 0,  0, 0,  0, 0,  0, 1, -3],\n",
      "[0, 0, 1, 0, 0, 0,  0, 0,  0, 0, -1, 0,  0, 0,  0, 1, -4],\n",
      "[0, 0, 0, 1, 0, 0,  0, 0,  0, 0,  0, 0, -1, 0,  0, 1, -5],\n",
      "[0, 0, 0, 0, 1, 0,  0, 0,  0, 0,  0, 0,  0, 0, -1, 1, -1],\n",
      "[0, 0, 0, 0, 0, 1, -1, 0,  0, 0,  0, 0,  0, 0,  0, 0, -1],\n",
      "[0, 0, 0, 0, 0, 0,  0, 1, -1, 0,  0, 0,  0, 0,  0, 0, -1],\n",
      "[0, 0, 0, 0, 0, 0,  0, 0,  0, 1, -1, 0,  0, 0,  0, 0, -1],\n",
      "[0, 0, 0, 0, 0, 0,  0, 0,  0, 0,  0, 1, -1, 0,  0, 0, -1],\n",
      "[0, 0, 0, 0, 0, 0,  0, 0,  0, 0,  0, 0,  0, 1, -1, 0,  4]]), (0, 1, 2, 3, 4, 5, 7, 9, 11, 13))\n"
     ]
    }
   ],
   "source": [
    "array=[]\n",
    "x=5\n",
    "e=x\n",
    "n=1\n",
    "for v in range(0,x):\n",
    "    block = []\n",
    "    for i in range(0,3*x +2):\n",
    "        block.append(0)\n",
    "    block[v] = -1\n",
    "    block[e] = 1\n",
    "    block[-2] = -1\n",
    "    if n == x+1:\n",
    "        block[-1]= 1\n",
    "    else:\n",
    "        block[-1] = n\n",
    "    array.append(block)\n",
    "    e+=1\n",
    "    n+=1\n",
    "    block = []\n",
    "    for i in range(0,3*x +2):\n",
    "        block.append(0)\n",
    "    block[v] = -1\n",
    "    block[e] = 1\n",
    "    block[-2] = -1\n",
    "    if n ==x+1:\n",
    "        block[-1] =1\n",
    "    else:\n",
    "        block[-1]=n\n",
    "    array.append(block)\n",
    "    e+=1\n",
    "M = np.matrix(array)\n",
    "print(M)       \n",
    "M_rref =sym.Matrix(M).rref()\n",
    "print(M_rref)"
   ]
  },
  {
   "cell_type": "code",
   "execution_count": 64,
   "id": "eed01541-33b1-47e7-b939-cac0daf813b4",
   "metadata": {
    "tags": []
   },
   "outputs": [
    {
     "name": "stdout",
     "output_type": "stream",
     "text": [
      "[[1, 2, 3, 4, 5], [9, 20, 16, 19, 11], [8, 7, 18, 17, 13, 12, 15, 14, 6, 10]] k=  0\n",
      "[[1, 2, 3, 4, 5], [10, 15, 20, 11, 19], [9, 8, 13, 12, 17, 16, 7, 6, 14, 18]] k=  0\n",
      "[[1, 2, 3, 4, 5], [18, 14, 10, 13, 20], [17, 16, 12, 11, 7, 6, 9, 8, 15, 19]] k=  0\n",
      "[[1, 2, 3, 4, 5], [19, 9, 14, 20, 13], [18, 17, 7, 6, 11, 10, 16, 15, 8, 12]] k=  0\n",
      "[[1, 2, 3, 4, 5], [6, 12, 17, 7, 13], [11, 10, 16, 15, 20, 19, 9, 8, 14, 18]] k=  6\n",
      "[[1, 2, 3, 4, 5], [7, 10, 6, 17, 15], [12, 11, 14, 13, 9, 8, 19, 18, 16, 20]] k=  6\n",
      "[[1, 2, 3, 4, 5], [13, 16, 12, 8, 6], [18, 17, 20, 19, 15, 14, 10, 9, 7, 11]] k=  6\n",
      "[[1, 2, 3, 4, 5], [15, 6, 11, 16, 7], [20, 19, 10, 9, 14, 13, 18, 17, 8, 12]] k=  6\n",
      "count =  8\n"
     ]
    }
   ],
   "source": [
    "count =0\n",
    "for k in range(-15,37):\n",
    "    for e2 in range(1,21):\n",
    "        v2 = e2 -k +2\n",
    "        e1 = e2+1\n",
    "        cycle = [1,2,3,4,5,v2,e1,e2]\n",
    "        if not(norepet(cycle) and inrange(cycle,1, 20)):\n",
    "            continue\n",
    "        for e4 in range(1,21):\n",
    "            v4= e4 -k +3\n",
    "            e3 = e4 +1\n",
    "            cycle = [1,2,3,4,5,v2,v4,e1,e2,e3,e4]\n",
    "            if not(norepet(cycle) and inrange(cycle,1, 20)):\n",
    "                continue\n",
    "            for e6 in range(1,21):\n",
    "                v6 = e6 -k +4\n",
    "                e5 =e6 +1\n",
    "                cycle = [1,2,3,4,5,v2,v4,v6,e1,e2,e3,e4,e5,e6]\n",
    "                if not(norepet(cycle) and inrange(cycle,1, 20)):\n",
    "                    continue\n",
    "                for e8 in range(1,21):\n",
    "                    v8 =e8 -k +5\n",
    "                    e7 = e8 +1\n",
    "                    cycle = [1,2,3,4,5,v2,v4,v6,v8,e1,e2,e3,e4,e5,e6,e7,e8]\n",
    "                    if not(norepet(cycle) and inrange(cycle,1, 20)):\n",
    "                        continue\n",
    "                    for e10 in range(1,21):\n",
    "                        v10 = e10 -k +1\n",
    "                        e9 = e10 -4\n",
    "                        cycle = [1,2,3,4,5,v2,v4,v6,v8,v10,e1,e2,e3,e4,e5,e6,e7,e8,e9,e10]\n",
    "                        if not(norepet(cycle) and inrange(cycle,1, 20)):\n",
    "                            continue\n",
    "                        count +=1\n",
    "                        print([[1,2,3,4,5],[v2,v4,v6,v8,v10],[e1,e2,e3,e4,e5,e6,e7,e8,e9,e10]],\n",
    "                              \"k= \", k)\n",
    "print(\"count = \", count)"
   ]
  },
  {
   "cell_type": "code",
   "execution_count": null,
   "id": "4a0eb006-f32a-461d-8a2a-2b3c79856439",
   "metadata": {},
   "outputs": [],
   "source": [
    "#end of c10"
   ]
  },
  {
   "cell_type": "code",
   "execution_count": 65,
   "id": "e9cc7661-338b-4e90-b9eb-85c89cee8653",
   "metadata": {
    "tags": []
   },
   "outputs": [],
   "source": [
    "# c12\n",
    "#2n +1 -(v+e) ≤ k ≤ 2(v+e) -2n\n",
    "#-19 ≤ k≤ 44"
   ]
  },
  {
   "cell_type": "code",
   "execution_count": 66,
   "id": "2ebb5031-8f86-4210-a0fc-d35fa4eb8094",
   "metadata": {
    "tags": []
   },
   "outputs": [
    {
     "name": "stdout",
     "output_type": "stream",
     "text": [
      "[[-1  0  0  0  0  0  1  0  0  0  0  0  0  0  0  0  0  0 -1  1]\n",
      " [-1  0  0  0  0  0  0  1  0  0  0  0  0  0  0  0  0  0 -1  2]\n",
      " [ 0 -1  0  0  0  0  0  0  1  0  0  0  0  0  0  0  0  0 -1  2]\n",
      " [ 0 -1  0  0  0  0  0  0  0  1  0  0  0  0  0  0  0  0 -1  3]\n",
      " [ 0  0 -1  0  0  0  0  0  0  0  1  0  0  0  0  0  0  0 -1  3]\n",
      " [ 0  0 -1  0  0  0  0  0  0  0  0  1  0  0  0  0  0  0 -1  4]\n",
      " [ 0  0  0 -1  0  0  0  0  0  0  0  0  1  0  0  0  0  0 -1  4]\n",
      " [ 0  0  0 -1  0  0  0  0  0  0  0  0  0  1  0  0  0  0 -1  5]\n",
      " [ 0  0  0  0 -1  0  0  0  0  0  0  0  0  0  1  0  0  0 -1  5]\n",
      " [ 0  0  0  0 -1  0  0  0  0  0  0  0  0  0  0  1  0  0 -1  6]\n",
      " [ 0  0  0  0  0 -1  0  0  0  0  0  0  0  0  0  0  1  0 -1  6]\n",
      " [ 0  0  0  0  0 -1  0  0  0  0  0  0  0  0  0  0  0  1 -1  1]]\n",
      "(Matrix([\n",
      "[1, 0, 0, 0, 0, 0, 0, -1, 0,  0, 0,  0, 0,  0, 0,  0, 0,  0, 1, -2],\n",
      "[0, 1, 0, 0, 0, 0, 0,  0, 0, -1, 0,  0, 0,  0, 0,  0, 0,  0, 1, -3],\n",
      "[0, 0, 1, 0, 0, 0, 0,  0, 0,  0, 0, -1, 0,  0, 0,  0, 0,  0, 1, -4],\n",
      "[0, 0, 0, 1, 0, 0, 0,  0, 0,  0, 0,  0, 0, -1, 0,  0, 0,  0, 1, -5],\n",
      "[0, 0, 0, 0, 1, 0, 0,  0, 0,  0, 0,  0, 0,  0, 0, -1, 0,  0, 1, -6],\n",
      "[0, 0, 0, 0, 0, 1, 0,  0, 0,  0, 0,  0, 0,  0, 0,  0, 0, -1, 1, -1],\n",
      "[0, 0, 0, 0, 0, 0, 1, -1, 0,  0, 0,  0, 0,  0, 0,  0, 0,  0, 0, -1],\n",
      "[0, 0, 0, 0, 0, 0, 0,  0, 1, -1, 0,  0, 0,  0, 0,  0, 0,  0, 0, -1],\n",
      "[0, 0, 0, 0, 0, 0, 0,  0, 0,  0, 1, -1, 0,  0, 0,  0, 0,  0, 0, -1],\n",
      "[0, 0, 0, 0, 0, 0, 0,  0, 0,  0, 0,  0, 1, -1, 0,  0, 0,  0, 0, -1],\n",
      "[0, 0, 0, 0, 0, 0, 0,  0, 0,  0, 0,  0, 0,  0, 1, -1, 0,  0, 0, -1],\n",
      "[0, 0, 0, 0, 0, 0, 0,  0, 0,  0, 0,  0, 0,  0, 0,  0, 1, -1, 0,  5]]), (0, 1, 2, 3, 4, 5, 6, 8, 10, 12, 14, 16))\n"
     ]
    }
   ],
   "source": [
    "array=[]\n",
    "x=6\n",
    "e=x\n",
    "n=1\n",
    "for v in range(0,x):\n",
    "    block = []\n",
    "    for i in range(0,3*x +2):\n",
    "        block.append(0)\n",
    "    block[v] = -1\n",
    "    block[e] = 1\n",
    "    block[-2] = -1\n",
    "    if n == x+1:\n",
    "        block[-1]= 1\n",
    "    else:\n",
    "        block[-1] = n\n",
    "    array.append(block)\n",
    "    e+=1\n",
    "    n+=1\n",
    "    block = []\n",
    "    for i in range(0,3*x +2):\n",
    "        block.append(0)\n",
    "    block[v] = -1\n",
    "    block[e] = 1\n",
    "    block[-2] = -1\n",
    "    if n ==x+1:\n",
    "        block[-1] =1\n",
    "    else:\n",
    "        block[-1]=n\n",
    "    array.append(block)\n",
    "    e+=1\n",
    "M = np.matrix(array)\n",
    "print(M)       \n",
    "M_rref =sym.Matrix(M).rref()\n",
    "print(M_rref)"
   ]
  },
  {
   "cell_type": "code",
   "execution_count": 88,
   "id": "bff430ab-31a4-4cfa-adfb-4a36b202779a",
   "metadata": {
    "tags": []
   },
   "outputs": [
    {
     "name": "stdout",
     "output_type": "stream",
     "text": [
      "0\n"
     ]
    }
   ],
   "source": [
    "count =0\n",
    "for k in range(-19, 45):\n",
    "    for e2 in range(1,25):\n",
    "        v2 = e2 -k +2\n",
    "        e1 = e2+1\n",
    "        cycle = [1,2,3,4,5,6,v2,e1,e2]\n",
    "        if not(norepet(cycle) and inrange(cycle,1, 24)):\n",
    "            continue\n",
    "        for e4 in range(1,25):\n",
    "            v4= e4 -k +3\n",
    "            e3 = e4 +1\n",
    "            cycle = [1,2,3,4,5,6,v2,v4,e1,e2,e3,e4]\n",
    "            if not(norepet(cycle) and inrange(cycle,1, 24)):\n",
    "                continue\n",
    "            for e6 in range(1,25):\n",
    "                v6 = e6 -k +4\n",
    "                e5 =e6 +1\n",
    "                cycle = [1,2,3,4,5,6,v2,v4,v6,e1,e2,e3,e4,e5,e6]\n",
    "                if not(norepet(cycle) and inrange(cycle,1, 24)):\n",
    "                    continue\n",
    "                for e8 in range(1,25):\n",
    "                    v8 =e8 -k +5\n",
    "                    e7 = e8 +1\n",
    "                    cycle = [1,2,3,4,5,6,v2,v4,v6,v8,e1,e2,e3,e4,e5,e6,e7,e8]\n",
    "                    if not(norepet(cycle) and inrange(cycle,1, 24)):\n",
    "                        continue\n",
    "                    for e10 in range(1,25):\n",
    "                        v10 = e10 -k +6\n",
    "                        e9 = e10 -4\n",
    "                        cycle = [1,2,3,4,5,6,v2,v4,v6,v8,v10,e1,e2,e3,e4,e5,e6,e7,e8,e9,e10]\n",
    "                        if not(norepet(cycle) and inrange(cycle,1, 24)):\n",
    "                            continue\n",
    "                        for e12 in range(1,25):\n",
    "                            v12 = e12 -k +1\n",
    "                            e11 = e12 -5\n",
    "                            cycle = [1,2,3,4,5,6,v2,v4,v6,v8,v10,v12\n",
    "                                     ,e1,e2,e3,e4,e5,e6,e7,e8,e9,e10,e11,e12]\n",
    "                            if not(norepet(cycle) and inrange(cycle,1, 24)):\n",
    "                                continue\n",
    "                            count += 1\n",
    "                            print([[1,2,3,4,5,6],[v2,v4,v6,v8,v10,v12],\n",
    "                                   [e1,e2,e3,e4,e5,e6,e7,e8,e9,e10,e11,e12]], \"k = \",k)\n",
    "print(count)"
   ]
  },
  {
   "cell_type": "code",
   "execution_count": null,
   "id": "c0d991d6-8214-4669-a59c-1ab016cc5d2c",
   "metadata": {},
   "outputs": [],
   "source": [
    "#end of c12"
   ]
  },
  {
   "cell_type": "code",
   "execution_count": 68,
   "id": "a5395873-1215-4d4b-a72a-5e6b27ef201e",
   "metadata": {
    "tags": []
   },
   "outputs": [],
   "source": [
    "#c14\n",
    "#2n +1 -(v+e) ≤ k ≤ 2(v+e) -2n\n",
    "# -23 ≤ k ≤ 52"
   ]
  },
  {
   "cell_type": "code",
   "execution_count": 69,
   "id": "e654f2f1-a8b7-45cd-8a45-99cbb4ab9a48",
   "metadata": {
    "tags": []
   },
   "outputs": [
    {
     "name": "stdout",
     "output_type": "stream",
     "text": [
      "[[-1  0  0  0  0  0  0  1  0  0  0  0  0  0  0  0  0  0  0  0  0 -1  1]\n",
      " [-1  0  0  0  0  0  0  0  1  0  0  0  0  0  0  0  0  0  0  0  0 -1  2]\n",
      " [ 0 -1  0  0  0  0  0  0  0  1  0  0  0  0  0  0  0  0  0  0  0 -1  2]\n",
      " [ 0 -1  0  0  0  0  0  0  0  0  1  0  0  0  0  0  0  0  0  0  0 -1  3]\n",
      " [ 0  0 -1  0  0  0  0  0  0  0  0  1  0  0  0  0  0  0  0  0  0 -1  3]\n",
      " [ 0  0 -1  0  0  0  0  0  0  0  0  0  1  0  0  0  0  0  0  0  0 -1  4]\n",
      " [ 0  0  0 -1  0  0  0  0  0  0  0  0  0  1  0  0  0  0  0  0  0 -1  4]\n",
      " [ 0  0  0 -1  0  0  0  0  0  0  0  0  0  0  1  0  0  0  0  0  0 -1  5]\n",
      " [ 0  0  0  0 -1  0  0  0  0  0  0  0  0  0  0  1  0  0  0  0  0 -1  5]\n",
      " [ 0  0  0  0 -1  0  0  0  0  0  0  0  0  0  0  0  1  0  0  0  0 -1  6]\n",
      " [ 0  0  0  0  0 -1  0  0  0  0  0  0  0  0  0  0  0  1  0  0  0 -1  6]\n",
      " [ 0  0  0  0  0 -1  0  0  0  0  0  0  0  0  0  0  0  0  1  0  0 -1  7]\n",
      " [ 0  0  0  0  0  0 -1  0  0  0  0  0  0  0  0  0  0  0  0  1  0 -1  7]\n",
      " [ 0  0  0  0  0  0 -1  0  0  0  0  0  0  0  0  0  0  0  0  0  1 -1  1]]\n",
      "(Matrix([\n",
      "[1, 0, 0, 0, 0, 0, 0, 0, -1, 0,  0, 0,  0, 0,  0, 0,  0, 0,  0, 0,  0, 1, -2],\n",
      "[0, 1, 0, 0, 0, 0, 0, 0,  0, 0, -1, 0,  0, 0,  0, 0,  0, 0,  0, 0,  0, 1, -3],\n",
      "[0, 0, 1, 0, 0, 0, 0, 0,  0, 0,  0, 0, -1, 0,  0, 0,  0, 0,  0, 0,  0, 1, -4],\n",
      "[0, 0, 0, 1, 0, 0, 0, 0,  0, 0,  0, 0,  0, 0, -1, 0,  0, 0,  0, 0,  0, 1, -5],\n",
      "[0, 0, 0, 0, 1, 0, 0, 0,  0, 0,  0, 0,  0, 0,  0, 0, -1, 0,  0, 0,  0, 1, -6],\n",
      "[0, 0, 0, 0, 0, 1, 0, 0,  0, 0,  0, 0,  0, 0,  0, 0,  0, 0, -1, 0,  0, 1, -7],\n",
      "[0, 0, 0, 0, 0, 0, 1, 0,  0, 0,  0, 0,  0, 0,  0, 0,  0, 0,  0, 0, -1, 1, -1],\n",
      "[0, 0, 0, 0, 0, 0, 0, 1, -1, 0,  0, 0,  0, 0,  0, 0,  0, 0,  0, 0,  0, 0, -1],\n",
      "[0, 0, 0, 0, 0, 0, 0, 0,  0, 1, -1, 0,  0, 0,  0, 0,  0, 0,  0, 0,  0, 0, -1],\n",
      "[0, 0, 0, 0, 0, 0, 0, 0,  0, 0,  0, 1, -1, 0,  0, 0,  0, 0,  0, 0,  0, 0, -1],\n",
      "[0, 0, 0, 0, 0, 0, 0, 0,  0, 0,  0, 0,  0, 1, -1, 0,  0, 0,  0, 0,  0, 0, -1],\n",
      "[0, 0, 0, 0, 0, 0, 0, 0,  0, 0,  0, 0,  0, 0,  0, 1, -1, 0,  0, 0,  0, 0, -1],\n",
      "[0, 0, 0, 0, 0, 0, 0, 0,  0, 0,  0, 0,  0, 0,  0, 0,  0, 1, -1, 0,  0, 0, -1],\n",
      "[0, 0, 0, 0, 0, 0, 0, 0,  0, 0,  0, 0,  0, 0,  0, 0,  0, 0,  0, 1, -1, 0,  6]]), (0, 1, 2, 3, 4, 5, 6, 7, 9, 11, 13, 15, 17, 19))\n"
     ]
    }
   ],
   "source": [
    "array=[]\n",
    "x=7\n",
    "e=x\n",
    "n=1\n",
    "for v in range(0,x):\n",
    "    block = []\n",
    "    for i in range(0,3*x +2):\n",
    "        block.append(0)\n",
    "    block[v] = -1\n",
    "    block[e] = 1\n",
    "    block[-2] = -1\n",
    "    if n == x+1:\n",
    "        block[-1]= 1\n",
    "    else:\n",
    "        block[-1] = n\n",
    "    array.append(block)\n",
    "    e+=1\n",
    "    n+=1\n",
    "    block = []\n",
    "    for i in range(0,3*x +2):\n",
    "        block.append(0)\n",
    "    block[v] = -1\n",
    "    block[e] = 1\n",
    "    block[-2] = -1\n",
    "    if n ==x+1:\n",
    "        block[-1] =1\n",
    "    else:\n",
    "        block[-1]=n\n",
    "    array.append(block)\n",
    "    e+=1\n",
    "M = np.matrix(array)\n",
    "print(M)       \n",
    "M_rref =sym.Matrix(M).rref()\n",
    "print(M_rref)"
   ]
  },
  {
   "cell_type": "code",
   "execution_count": 87,
   "id": "19d48b65-4d44-4619-a619-3fc919eac812",
   "metadata": {
    "tags": []
   },
   "outputs": [
    {
     "name": "stdout",
     "output_type": "stream",
     "text": [
      "[[1, 2, 3, 4, 5, 6, 7], [12, 15, 28, 26, 21, 25, 27]]\n",
      "[9, 8, 11, 10, 23, 22, 20, 19, 14, 13, 17, 16, 18, 24]\n",
      "k = -2\n",
      "[[1, 2, 3, 4, 5, 6, 7], [26, 15, 14, 19, 28, 25, 27]]\n",
      "[23, 22, 11, 10, 9, 8, 13, 12, 21, 20, 17, 16, 18, 24]\n",
      "k = -2\n",
      "[[1, 2, 3, 4, 5, 6, 7], [26, 17, 14, 27, 18, 24, 28]]\n",
      "[23, 22, 13, 12, 9, 8, 21, 20, 11, 10, 16, 15, 19, 25]\n",
      "k = -2\n",
      "[[1, 2, 3, 4, 5, 6, 7], [27, 15, 14, 19, 28, 26, 25]]\n",
      "[24, 23, 11, 10, 9, 8, 13, 12, 21, 20, 18, 17, 16, 22]\n",
      "k = -2\n",
      "[[1, 2, 3, 4, 5, 6, 7], [28, 15, 27, 19, 16, 26, 23]]\n",
      "[25, 24, 11, 10, 22, 21, 13, 12, 9, 8, 18, 17, 14, 20]\n",
      "k = -2\n",
      "[[1, 2, 3, 4, 5, 6, 7], [10, 8, 17, 22, 21, 9, 11]]\n",
      "[19, 18, 16, 15, 24, 23, 28, 27, 26, 25, 13, 12, 14, 20]\n",
      "k = 10\n",
      "[[1, 2, 3, 4, 5, 6, 7], [10, 20, 17, 9, 21, 8, 13]]\n",
      "[19, 18, 28, 27, 24, 23, 15, 14, 26, 25, 12, 11, 16, 22]\n",
      "k = 10\n",
      "[[1, 2, 3, 4, 5, 6, 7], [11, 8, 17, 22, 21, 10, 9]]\n",
      "[20, 19, 16, 15, 24, 23, 28, 27, 26, 25, 14, 13, 12, 18]\n",
      "k = 10\n",
      "[[1, 2, 3, 4, 5, 6, 7], [11, 15, 10, 8, 21, 24, 9]]\n",
      "[20, 19, 23, 22, 17, 16, 14, 13, 26, 25, 28, 27, 12, 18]\n",
      "k = 10\n",
      "[[1, 2, 3, 4, 5, 6, 7], [12, 18, 9, 22, 19, 10, 8]]\n",
      "[21, 20, 26, 25, 16, 15, 28, 27, 24, 23, 14, 13, 11, 17]\n",
      "k = 10\n",
      "10\n"
     ]
    }
   ],
   "source": [
    "count =0\n",
    "for k in range(-23, 53):\n",
    "    for e2 in range(1,29):\n",
    "        v2 = e2 -k +2\n",
    "        e1 = e2+1\n",
    "        cycle = [1,2,3,4,5,6,7,v2,e1,e2]\n",
    "        if not(norepet(cycle) and inrange(cycle,1, 28)):\n",
    "            continue\n",
    "        for e4 in range(1,29):\n",
    "            v4= e4 -k +3\n",
    "            e3 = e4 +1\n",
    "            cycle = [1,2,3,4,5,6,7,v2,v4,e1,e2,e3,e4]\n",
    "            if not(norepet(cycle) and inrange(cycle,1, 28)):\n",
    "                continue\n",
    "            for e6 in range(1,29):\n",
    "                v6 = e6 -k +4\n",
    "                e5 =e6 +1\n",
    "                cycle = [1,2,3,4,5,6,7,v2,v4,v6,e1,e2,e3,e4,e5,e6]\n",
    "                if not(norepet(cycle) and inrange(cycle,1, 28)):\n",
    "                    continue\n",
    "                for e8 in range(1,29):\n",
    "                    v8 =e8 -k +5\n",
    "                    e7 = e8 +1\n",
    "                    cycle = [1,2,3,4,5,6,7,v2,v4,v6,v8,e1,e2,e3,e4,e5,e6,e7,e8]\n",
    "                    if not(norepet(cycle) and inrange(cycle,1, 28)):\n",
    "                        continue\n",
    "                    for e10 in range(1,29):\n",
    "                        v10 = e10 -k +6\n",
    "                        e9 = e10 +1\n",
    "                        cycle = [1,2,3,4,5,6,7,v2,v4,v6,v8,v10,e1,e2,e3,e4,e5,e6,e7,e8,e9,e10]\n",
    "                        if not(norepet(cycle) and inrange(cycle,1, 28)):\n",
    "                            continue\n",
    "                        for e12 in range(1,29):\n",
    "                            v12 = e12 -k +7\n",
    "                            e11 = e12 +1\n",
    "                            cycle = [1,2,3,4,5,6,7,v2,v4,v6,v8,v10,v12,\n",
    "                                     e1,e2,e3,e4,e5,e6,e7,e8,e9,e10,e11,e12]\n",
    "                            if not(norepet(cycle) and inrange(cycle,1, 28)):\n",
    "                                continue\n",
    "                            for e14 in range(1,29):\n",
    "                                v14 = e14 -k +1\n",
    "                                e13 = e14 - 6\n",
    "                                cycle = [1,2,3,4,5,6,7,v2,v4,v6,v8,v10,v12,v14\n",
    "                                     ,e1,e2,e3,e4,e5,e6,e7,e8,e9,e10,e11,e12,e13,e14]\n",
    "                                if not(norepet(cycle) and inrange(cycle,1, 28)):\n",
    "                                    continue\n",
    "                                count += 1\n",
    "                                print([[1,2,3,4,5,6,7],[v2,v4,v6,v8,v10,v12,v14]])\n",
    "                                print([e1,e2,e3,e4,e5,e6,e7,e8,e9,e10,e11,e12,e13,e14])\n",
    "                                print(\"k =\",k)\n",
    "print(count)"
   ]
  },
  {
   "cell_type": "code",
   "execution_count": null,
   "id": "cb364022-b6c8-48da-a4d1-14f18a85b6f4",
   "metadata": {},
   "outputs": [],
   "source": []
  }
 ],
 "metadata": {
  "kernelspec": {
   "display_name": "mathstone-kernel",
   "language": "python",
   "name": "mathstone-kernel"
  },
  "language_info": {
   "codemirror_mode": {
    "name": "ipython",
    "version": 3
   },
   "file_extension": ".py",
   "mimetype": "text/x-python",
   "name": "python",
   "nbconvert_exporter": "python",
   "pygments_lexer": "ipython3",
   "version": "3.12.1"
  }
 },
 "nbformat": 4,
 "nbformat_minor": 5
}
