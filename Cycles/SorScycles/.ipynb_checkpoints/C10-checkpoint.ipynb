{
 "cells": [
  {
   "cell_type": "code",
   "execution_count": 1,
   "id": "54d9dc9f-a13d-472e-af2b-863b846723ff",
   "metadata": {
    "tags": []
   },
   "outputs": [],
   "source": [
    "import networkx as nx\n",
    "import plotly as ply\n",
    "import numpy as np\n",
    "import sympy as sym"
   ]
  },
  {
   "cell_type": "code",
   "execution_count": 2,
   "id": "095285b9-ea17-41af-8554-0f299d94da46",
   "metadata": {
    "tags": []
   },
   "outputs": [],
   "source": [
    "def norepet(cycle):\n",
    "    ret =True\n",
    "    NewList =[]\n",
    "    for a in cycle:\n",
    "        if a not in NewList:\n",
    "            NewList.append(a)\n",
    "        else:\n",
    "            return False\n",
    "    return ret\n",
    "def inrange(cycle,min, max):\n",
    "    ret =True\n",
    "    for a in cycle:\n",
    "        if a < min:\n",
    "            return False\n",
    "        elif a > max:\n",
    "            return False\n",
    "        if not(a%1 ==0):\n",
    "            return False\n",
    "    return ret"
   ]
  },
  {
   "cell_type": "code",
   "execution_count": 3,
   "id": "4867f94a-ce33-4faa-aac3-5861cd1b55c6",
   "metadata": {
    "tags": []
   },
   "outputs": [
    {
     "name": "stdout",
     "output_type": "stream",
     "text": [
      "(Matrix([\n",
      "[1, 0, 0, 0, 0, 0, 0, 0, 0, -1, 0,  0, 0,  0, 0,  0, 0,  0, 0, -1, -1],\n",
      "[0, 1, 0, 0, 0, 0, 0, 0, 0, -1, 0, -1, 1, -1, 1, -1, 1, -1, 1,  0,  0],\n",
      "[0, 0, 1, 0, 0, 0, 0, 0, 0, -1, 0,  0, 1, -1, 1, -1, 1, -1, 1,  0, -1],\n",
      "[0, 0, 0, 1, 0, 0, 0, 0, 0, -1, 0,  0, 0, -1, 1, -1, 1, -1, 1,  0,  0],\n",
      "[0, 0, 0, 0, 1, 0, 0, 0, 0, -1, 0,  0, 0,  0, 1, -1, 1, -1, 1,  0, -1],\n",
      "[0, 0, 0, 0, 0, 1, 0, 0, 0, -1, 0,  0, 0,  0, 0, -1, 1, -1, 1,  0,  0],\n",
      "[0, 0, 0, 0, 0, 0, 1, 0, 0, -1, 0,  0, 0,  0, 0,  0, 1, -1, 1,  0, -1],\n",
      "[0, 0, 0, 0, 0, 0, 0, 1, 0, -1, 0,  0, 0,  0, 0,  0, 0, -1, 1,  0,  0],\n",
      "[0, 0, 0, 0, 0, 0, 0, 0, 1, -1, 0,  0, 0,  0, 0,  0, 0,  0, 1,  0, -1],\n",
      "[0, 0, 0, 0, 0, 0, 0, 0, 0,  0, 1, -1, 1, -1, 1, -1, 1, -1, 1,  1,  0]]), (0, 1, 2, 3, 4, 5, 6, 7, 8, 10))\n"
     ]
    }
   ],
   "source": [
    "#               v1,2,3,4,5,6,7,8,9,0,1,2,3,4,5,6,7,8,9,0,k\n",
    "M = np.matrix([[1,-1,0,0,0,0,0,0,0,0,1,0,0,0,0,0,0,0,0,0,-1],\n",
    "               [0,-1,1,0,0,0,0,0,0,0,0,1,0,0,0,0,0,0,0,0,-1],\n",
    "               [0,0,1,-1,0,0,0,0,0,0,0,0,1,0,0,0,0,0,0,0,-1],\n",
    "               [0,0,0,-1,1,0,0,0,0,0,0,0,0,1,0,0,0,0,0,0,-1],\n",
    "               [0,0,0,0,1,-1,0,0,0,0,0,0,0,0,1,0,0,0,0,0,-1],\n",
    "               [0,0,0,0,0,-1,1,0,0,0,0,0,0,0,0,1,0,0,0,0,-1],\n",
    "               [0,0,0,0,0,0,1,-1,0,0,0,0,0,0,0,0,1,0,0,0,-1],\n",
    "               [0,0,0,0,0,0,0,-1,1,0,0,0,0,0,0,0,0,1,0,0,-1],\n",
    "               [0,0,0,0,0,0,0,0,1,-1,0,0,0,0,0,0,0,0,1,0,-1],\n",
    "               [1,0,0,0,0,0,0,0,0,-1,0,0,0,0,0,0,0,0,0,-1,-1]])\n",
    "M_rref =sym.Matrix(M).rref()\n",
    "print(M_rref)"
   ]
  },
  {
   "cell_type": "code",
   "execution_count": null,
   "id": "8690f785-b96d-4215-8e86-d9cd4d8ccd7a",
   "metadata": {},
   "outputs": [],
   "source": []
  }
 ],
 "metadata": {
  "kernelspec": {
   "display_name": "mathstone-kernel",
   "language": "python",
   "name": "mathstone-kernel"
  },
  "language_info": {
   "codemirror_mode": {
    "name": "ipython",
    "version": 3
   },
   "file_extension": ".py",
   "mimetype": "text/x-python",
   "name": "python",
   "nbconvert_exporter": "python",
   "pygments_lexer": "ipython3",
   "version": "3.12.1"
  }
 },
 "nbformat": 4,
 "nbformat_minor": 5
}
