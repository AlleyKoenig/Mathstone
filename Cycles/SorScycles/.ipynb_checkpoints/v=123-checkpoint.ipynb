{
 "cells": [
  {
   "cell_type": "code",
   "execution_count": 1,
   "id": "ac67bac3-dd96-4941-8bad-8d1fc3b8754c",
   "metadata": {
    "tags": []
   },
   "outputs": [],
   "source": [
    "import networkx as nx\n",
    "import plotly as ply\n",
    "import numpy as np\n",
    "import sympy as sym"
   ]
  },
  {
   "cell_type": "code",
   "execution_count": 2,
   "id": "354e711b-d359-4bda-bca2-4ac501480f68",
   "metadata": {
    "tags": []
   },
   "outputs": [],
   "source": [
    "def norepet(cycle):\n",
    "    ret =True\n",
    "    NewList =[]\n",
    "    for a in cycle:\n",
    "        if a not in NewList:\n",
    "            NewList.append(a)\n",
    "        else:\n",
    "            return False\n",
    "    return ret\n",
    "def inrange(cycle,min, max):\n",
    "    ret =True\n",
    "    for a in cycle:\n",
    "        if a < min:\n",
    "            return False\n",
    "        elif a > max:\n",
    "            return False\n",
    "        if not(a%1 ==0):\n",
    "            return False\n",
    "    return ret"
   ]
  },
  {
   "cell_type": "code",
   "execution_count": 3,
   "id": "a2cfcecd-9162-43b4-acfc-d45ec71810b8",
   "metadata": {
    "tags": []
   },
   "outputs": [],
   "source": [
    "#c6\n",
    "#2n +1 -(v+e) ≤ k ≤ 2(v+e) -2n\n",
    "#-7≤k≤ 20"
   ]
  },
  {
   "cell_type": "code",
   "execution_count": 10,
   "id": "8295a696-eff7-454e-9b4c-625e892c32cf",
   "metadata": {
    "tags": []
   },
   "outputs": [
    {
     "name": "stdout",
     "output_type": "stream",
     "text": [
      "[[-1, 0, 0, 1, 0, 0, 0, 0, 0, -1, 1], [-1, 0, 0, 0, 1, 0, 0, 0, 0, -1, 2], [0, -1, 0, 0, 0, 1, 0, 0, 0, -1, 3], [0, -1, 0, 0, 0, 0, 1, 0, 0, -1, 4], [0, 0, -1, 0, 0, 0, 0, 1, 0, -1, 5], [0, 0, -1, 0, 0, 0, 0, 0, 1, -1, 6]]\n"
     ]
    }
   ],
   "source": [
    "array=[]\n",
    "e =3\n",
    "n= 1\n",
    "for v in range(0,3):\n",
    "    block =[]\n",
    "    for i in range(0,11):\n",
    "        block.append(0)\n",
    "    #v1\n",
    "    block[v] =-1\n",
    "    block[e]= 1\n",
    "    block[-2]=-1\n",
    "    block[-1]=n\n",
    "    array.append(block)\n",
    "    #v2\n",
    "    block =[]\n",
    "    for i in range(0,11):\n",
    "        block.append(0)\n",
    "    e +=1\n",
    "    n +=1\n",
    "    block[v] =-1\n",
    "    block[e]= 1\n",
    "    block[-2]=-1\n",
    "    block[-1]=n\n",
    "    array.append(block)\n",
    "    e +=1\n",
    "    n += 1\n",
    "print(array)\n",
    "        \n",
    "        "
   ]
  },
  {
   "cell_type": "code",
   "execution_count": 11,
   "id": "da38c1cf-57de-47fe-b0a5-ba856bb95eb8",
   "metadata": {
    "tags": []
   },
   "outputs": [
    {
     "name": "stdout",
     "output_type": "stream",
     "text": [
      "[[-1  0  0  1  0  0  0  0  0 -1  1]\n",
      " [-1  0  0  0  1  0  0  0  0 -1  2]\n",
      " [ 0 -1  0  0  0  1  0  0  0 -1  3]\n",
      " [ 0 -1  0  0  0  0  1  0  0 -1  4]\n",
      " [ 0  0 -1  0  0  0  0  1  0 -1  5]\n",
      " [ 0  0 -1  0  0  0  0  0  1 -1  6]]\n",
      "(Matrix([\n",
      "[1, 0, 0, 0, -1, 0,  0, 0,  0, 1, -2],\n",
      "[0, 1, 0, 0,  0, 0, -1, 0,  0, 1, -4],\n",
      "[0, 0, 1, 0,  0, 0,  0, 0, -1, 1, -6],\n",
      "[0, 0, 0, 1, -1, 0,  0, 0,  0, 0, -1],\n",
      "[0, 0, 0, 0,  0, 1, -1, 0,  0, 0, -1],\n",
      "[0, 0, 0, 0,  0, 0,  0, 1, -1, 0, -1]]), (0, 1, 2, 3, 5, 7))\n"
     ]
    }
   ],
   "source": [
    "#               v2,4,6,1,2,3,4,5,6,k,c\n",
    "M = np.matrix(array)\n",
    "print(M)\n",
    "M_rref =sym.Matrix(M).rref()\n",
    "print(M_rref)"
   ]
  },
  {
   "cell_type": "code",
   "execution_count": 12,
   "id": "08bb5595-5b7c-4d91-ab3a-bb707ab5a4e6",
   "metadata": {
    "tags": []
   },
   "outputs": [
    {
     "name": "stdout",
     "output_type": "stream",
     "text": [
      "[[1, 2, 3], [11, 8, 12], [10, 9, 5, 4, 7, 6]] k=  0\n",
      "[[1, 2, 3], [4, 8, 5], [10, 9, 12, 11, 7, 6]] k=  7\n",
      "2\n"
     ]
    }
   ],
   "source": [
    "count = 0\n",
    "for k in range(-7,21):\n",
    "    for e2 in range(1,13):\n",
    "        v2 = e2 -k +2\n",
    "        e1 = e2+1\n",
    "        cycle = [1,2,3,v2,e1,e2]\n",
    "        if not(norepet(cycle) and inrange(cycle,1, 12)):\n",
    "            continue\n",
    "        for e4 in range(1,13):\n",
    "            v4 = e4 -k +4\n",
    "            e3 = e4+1\n",
    "            cycle = [1,2,3,v2,v4,e1,e2,e3,e4]\n",
    "            if not(norepet(cycle) and inrange(cycle,1, 12)):\n",
    "                continue\n",
    "            for e6 in range(1,13):\n",
    "                v6 = e6 -k +6\n",
    "                e5 = e6+1\n",
    "                cycle = [1,2,3,v2,v4,v6,e1,e2,e3,e4,e5,e6]\n",
    "                if not(norepet(cycle) and inrange(cycle,1, 12)):\n",
    "                    continue \n",
    "                print([[1,2,3],[v2,v4,v6],[e1,e2,e3,e4,e5,e6]],\"k= \",k)\n",
    "                count +=1\n",
    "print(count)"
   ]
  },
  {
   "cell_type": "code",
   "execution_count": 13,
   "id": "a1c7cc78-6cc6-47b9-9595-03f9bff51d85",
   "metadata": {
    "tags": []
   },
   "outputs": [],
   "source": [
    "#c8\n",
    "#2n +1 -(v+e) ≤ k ≤ 2(v+e) -2n\n",
    "#-11≤ k≤ 28"
   ]
  },
  {
   "cell_type": "code",
   "execution_count": 18,
   "id": "4da8ef4e-ad4c-4496-a355-49ccd3999802",
   "metadata": {
    "tags": []
   },
   "outputs": [
    {
     "name": "stdout",
     "output_type": "stream",
     "text": [
      "[[-1  0  0  0  1  0  0  0  0  0  0  0 -1  1]\n",
      " [-1  0  0  0  0  1  0  0  0  0  0  0 -1  2]\n",
      " [ 0 -1  0  0  0  0  1  0  0  0  0  0 -1  3]\n",
      " [ 0 -1  0  0  0  0  0  1  0  0  0  0 -1  4]\n",
      " [ 0  0 -1  0  0  0  0  0  1  0  0  0 -1  5]\n",
      " [ 0  0 -1  0  0  0  0  0  0  1  0  0 -1  6]\n",
      " [ 0  0  0 -1  0  0  0  0  0  0  1  0 -1  7]\n",
      " [ 0  0  0 -1  0  0  0  0  0  0  0  1 -1  8]]\n",
      "(Matrix([\n",
      "[1, 0, 0, 0, 0, -1, 0,  0, 0,  0, 0,  0, 1, -2],\n",
      "[0, 1, 0, 0, 0,  0, 0, -1, 0,  0, 0,  0, 1, -4],\n",
      "[0, 0, 1, 0, 0,  0, 0,  0, 0, -1, 0,  0, 1, -6],\n",
      "[0, 0, 0, 1, 0,  0, 0,  0, 0,  0, 0, -1, 1, -8],\n",
      "[0, 0, 0, 0, 1, -1, 0,  0, 0,  0, 0,  0, 0, -1],\n",
      "[0, 0, 0, 0, 0,  0, 1, -1, 0,  0, 0,  0, 0, -1],\n",
      "[0, 0, 0, 0, 0,  0, 0,  0, 1, -1, 0,  0, 0, -1],\n",
      "[0, 0, 0, 0, 0,  0, 0,  0, 0,  0, 1, -1, 0, -1]]), (0, 1, 2, 3, 4, 6, 8, 10))\n"
     ]
    }
   ],
   "source": [
    "array=[]\n",
    "x=4\n",
    "e = x\n",
    "n= 1\n",
    "for v in range(0,x):\n",
    "    block =[]\n",
    "    for i in range(0,(3*x+2)):\n",
    "        block.append(0)\n",
    "    #v1\n",
    "    block[v] =-1\n",
    "    block[e]= 1\n",
    "    block[-2]=-1\n",
    "    block[-1]=n\n",
    "    array.append(block)\n",
    "    #v2\n",
    "    block =[]\n",
    "    for i in range(0,(3*x +2)):\n",
    "        block.append(0)\n",
    "    e +=1\n",
    "    n +=1\n",
    "    block[v] =-1\n",
    "    block[e]= 1\n",
    "    block[-2]=-1\n",
    "    block[-1]=n\n",
    "    array.append(block)\n",
    "    e +=1\n",
    "    n += 1        \n",
    "M = np.matrix(array)\n",
    "print(M)\n",
    "M_rref =sym.Matrix(M).rref()\n",
    "print(M_rref)      "
   ]
  },
  {
   "cell_type": "code",
   "execution_count": null,
   "id": "ba82a477-c5ef-4176-af89-e3217b6424cf",
   "metadata": {},
   "outputs": [],
   "source": [
    "count = 0\n",
    "for k in range(-11,29):\n",
    "    for e2 in range (1,17):\n",
    "        v2 = e2 -k +2\n",
    "        e1 = e2+1\n",
    "        cycle = [1,2,3,4,v2,e1,e2]\n",
    "        if not(norepet(cycle) and inrange(cycle,1, 16)):\n",
    "            continue\n",
    "        for e4 in range(1,17):\n",
    "            v4= e4 -k +4\n",
    "            e3 = e4 +1\n",
    "            cycle = [1,2,3,4,v2,v4,e1,e2,e3,e4]\n",
    "            if not(norepet(cycle) and inrange(cycle,1, 16)):\n",
    "                continue\n",
    "            for e6 in range(1,17):\n",
    "                v6 = e6 -k +6\n",
    "                e5 =e6 +1\n",
    "                cycle = [1,2,3,4,v2,v4,v6,e1,e2,e3,e4]\n",
    "                if not(norepet(cycle) and inrange(cycle,1, 16)):\n",
    "                    continue"
   ]
  }
 ],
 "metadata": {
  "kernelspec": {
   "display_name": "mathstone-kernel",
   "language": "python",
   "name": "mathstone-kernel"
  },
  "language_info": {
   "codemirror_mode": {
    "name": "ipython",
    "version": 3
   },
   "file_extension": ".py",
   "mimetype": "text/x-python",
   "name": "python",
   "nbconvert_exporter": "python",
   "pygments_lexer": "ipython3",
   "version": "3.12.1"
  }
 },
 "nbformat": 4,
 "nbformat_minor": 5
}
