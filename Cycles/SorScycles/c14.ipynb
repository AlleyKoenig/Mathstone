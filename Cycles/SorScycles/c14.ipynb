{
 "cells": [
  {
   "cell_type": "code",
   "execution_count": 1,
   "id": "a5f1cb22-a49f-4711-a26a-4e251a09c4cf",
   "metadata": {
    "tags": []
   },
   "outputs": [],
   "source": [
    "import networkx as nx\n",
    "import plotly as ply\n",
    "import numpy as np\n",
    "import sympy as sym"
   ]
  },
  {
   "cell_type": "code",
   "execution_count": 2,
   "id": "0566fb30-29a8-4546-a1da-08be0ae62372",
   "metadata": {
    "tags": []
   },
   "outputs": [],
   "source": [
    "def norepet(cycle):\n",
    "    ret =True\n",
    "    NewList =[]\n",
    "    for a in cycle:\n",
    "        if a not in NewList:\n",
    "            NewList.append(a)\n",
    "        else:\n",
    "            return False\n",
    "    return ret\n",
    "def inrange(cycle,min, max):\n",
    "    ret =True\n",
    "    for a in cycle:\n",
    "        if a < min:\n",
    "            return False\n",
    "        elif a > max:\n",
    "            return False\n",
    "        if not(a%1 ==0):\n",
    "            return False\n",
    "    return ret"
   ]
  },
  {
   "cell_type": "code",
   "execution_count": 3,
   "id": "a10dfb98-d6e3-471f-9431-134d67ec02f3",
   "metadata": {
    "tags": []
   },
   "outputs": [],
   "source": [
    "#2n +1 -(v+e) ≤ k ≤ 2(v+e) -2n\n",
    "# -23 ≤ k ≤ 52"
   ]
  },
  {
   "cell_type": "code",
   "execution_count": 5,
   "id": "46be47ef-1eb9-4ebe-9764-76ecbbc997f1",
   "metadata": {
    "tags": []
   },
   "outputs": [
    {
     "name": "stdout",
     "output_type": "stream",
     "text": [
      "(Matrix([\n",
      "[1, 0, 0, 0, 0, 0, 0, 0, -1, 0,  0, 0,  0, 0,  0, 0,  0, 0,  0, 0,  0, 1,  -2],\n",
      "[0, 1, 0, 0, 0, 0, 0, 0,  0, 0, -1, 0,  0, 0,  0, 0,  0, 0,  0, 0,  0, 1,  -4],\n",
      "[0, 0, 1, 0, 0, 0, 0, 0,  0, 0,  0, 0, -1, 0,  0, 0,  0, 0,  0, 0,  0, 1,  -6],\n",
      "[0, 0, 0, 1, 0, 0, 0, 0,  0, 0,  0, 0,  0, 0, -1, 0,  0, 0,  0, 0,  0, 1,  -8],\n",
      "[0, 0, 0, 0, 1, 0, 0, 0,  0, 0,  0, 0,  0, 0,  0, 0, -1, 0,  0, 0,  0, 1, -10],\n",
      "[0, 0, 0, 0, 0, 1, 0, 0,  0, 0,  0, 0,  0, 0,  0, 0,  0, 0, -1, 0,  0, 1, -12],\n",
      "[0, 0, 0, 0, 0, 0, 1, 0,  0, 0,  0, 0,  0, 0,  0, 0,  0, 0,  0, 0, -1, 1, -14],\n",
      "[0, 0, 0, 0, 0, 0, 0, 1, -1, 0,  0, 0,  0, 0,  0, 0,  0, 0,  0, 0,  0, 0,  -1],\n",
      "[0, 0, 0, 0, 0, 0, 0, 0,  0, 1, -1, 0,  0, 0,  0, 0,  0, 0,  0, 0,  0, 0,  -1],\n",
      "[0, 0, 0, 0, 0, 0, 0, 0,  0, 0,  0, 1, -1, 0,  0, 0,  0, 0,  0, 0,  0, 0,  -1],\n",
      "[0, 0, 0, 0, 0, 0, 0, 0,  0, 0,  0, 0,  0, 1, -1, 0,  0, 0,  0, 0,  0, 0,  -1],\n",
      "[0, 0, 0, 0, 0, 0, 0, 0,  0, 0,  0, 0,  0, 0,  0, 1, -1, 0,  0, 0,  0, 0,  -1],\n",
      "[0, 0, 0, 0, 0, 0, 0, 0,  0, 0,  0, 0,  0, 0,  0, 0,  0, 1, -1, 0,  0, 0,  -1],\n",
      "[0, 0, 0, 0, 0, 0, 0, 0,  0, 0,  0, 0,  0, 0,  0, 0,  0, 0,  0, 1, -1, 0,  -1]]), (0, 1, 2, 3, 4, 5, 6, 7, 9, 11, 13, 15, 17, 19))\n"
     ]
    }
   ],
   "source": [
    "#              v2,4,6,8,0,2,4,e1,2,3,4,5,6,7,8,9,0,1,2,3,4,k,c\n",
    "M = np.matrix([[-1,0,0,0,0,0,0,1,0,0,0,0,0,0,0,0,0,0,0,0,0,-1,1],\n",
    "               [-1,0,0,0,0,0,0,0,1,0,0,0,0,0,0,0,0,0,0,0,0,-1,2],\n",
    "               [0,-1,0,0,0,0,0,0,0,1,0,0,0,0,0,0,0,0,0,0,0,-1,3],\n",
    "               [0,-1,0,0,0,0,0,0,0,0,1,0,0,0,0,0,0,0,0,0,0,-1,4],\n",
    "               [0,0,-1,0,0,0,0,0,0,0,0,1,0,0,0,0,0,0,0,0,0,-1,5],\n",
    "               [0,0,-1,0,0,0,0,0,0,0,0,0,1,0,0,0,0,0,0,0,0,-1,6],\n",
    "               [0,0,0,-1,0,0,0,0,0,0,0,0,0,1,0,0,0,0,0,0,0,-1,7],\n",
    "               [0,0,0,-1,0,0,0,0,0,0,0,0,0,0,1,0,0,0,0,0,0,-1,8],\n",
    "               [0,0,0,0,-1,0,0,0,0,0,0,0,0,0,0,1,0,0,0,0,0,-1,9],\n",
    "               [0,0,0,0,-1,0,0,0,0,0,0,0,0,0,0,0,1,0,0,0,0,-1,10],\n",
    "               [0,0,0,0,0,-1,0,0,0,0,0,0,0,0,0,0,0,1,0,0,0,-1,11],\n",
    "               [0,0,0,0,0,-1,0,0,0,0,0,0,0,0,0,0,0,0,1,0,0,-1,12],\n",
    "               [0,0,0,0,0,0,-1,0,0,0,0,0,0,0,0,0,0,0,0,1,0,-1,13],\n",
    "               [0,0,0,0,0,0,-1,0,0,0,0,0,0,0,0,0,0,0,0,0,1,-1,14]])\n",
    "M_rref =sym.Matrix(M).rref()\n",
    "print(M_rref)"
   ]
  },
  {
   "cell_type": "code",
   "execution_count": 6,
   "id": "57e2596d-8b98-4994-b406-54ef2f3e2d5a",
   "metadata": {
    "tags": []
   },
   "outputs": [
    {
     "name": "stdout",
     "output_type": "stream",
     "text": [
      "count=  0\n"
     ]
    }
   ],
   "source": [
    "count =0\n",
    "k=8\n",
    "cycle=[1,2,3,4,5,6,7]\n",
    "for e2 in range(8,29):\n",
    "    v2 = e2 -k+2\n",
    "    e1 = e2 +1\n",
    "    cycle= [1,2,3,4,5,6,7, v2,e1,e2]\n",
    "    if not(norepet(cycle) and inrange(cycle,1, 28)):\n",
    "        continue\n",
    "    for e4 in range(8,29):\n",
    "        v4 = e4 -k +4\n",
    "        e3 = e4 +1\n",
    "        cycle= [1,2,3,4,5,6,7, v2,v4,e1,e2,e3,e4]\n",
    "        if not(norepet(cycle) and inrange(cycle,1, 28)):\n",
    "            continue\n",
    "        for e6 in range(8,29):\n",
    "            v6 = e6 -k +6\n",
    "            e5 = e6 +1\n",
    "            cycle= [1,2,3,4,5,6,7, v2,v4,v6,e1,e2,e3,e4,e5,e6]\n",
    "            if not(norepet(cycle) and inrange(cycle,1, 28)):\n",
    "                continue\n",
    "            for e8 in range(8,29):\n",
    "                v8 = e8 -k +8\n",
    "                e7 = e8 +1\n",
    "                cycle= [1,2,3,4,5,6,7,v2,v4,v6,v8,e1,e2,e3,e4,e5,e6,e7,e8]\n",
    "                if not(norepet(cycle) and inrange(cycle,1, 28)):\n",
    "                    continue\n",
    "                for e10 in range(8,29):\n",
    "                    v10 = e10 -k +10\n",
    "                    e9 = e10 +1\n",
    "                    cycle= [1,2,3,4,5,6,7,v2,v4,v6,v8,v10,e1,e2,e3,e4,e5,e6,e7,e8,e9,e10]\n",
    "                    if not(norepet(cycle) and inrange(cycle,1, 28)):\n",
    "                        continue\n",
    "                    for e12 in range(8,29):\n",
    "                        v12 = e12 -k +12\n",
    "                        e11 = e12 +1\n",
    "                        cycle= [1,2,3,4,5,6,7,v2,v4,v6,v8,v10,v12,\n",
    "                                e1,e2,e3,e4,e5,e6,e7,e8,e9,e10,e11,e12]\n",
    "                        if not(norepet(cycle) and inrange(cycle,1, 28)):\n",
    "                            continue\n",
    "                        for e14 in range(8,29):\n",
    "                            v14 = e14 -k + 14\n",
    "                            e13 = e14 +1\n",
    "                            cycle= [1,2,3,4,5,6,7,v2,v4,v6,v8,v10,v12,v14,\n",
    "                                    e1,e2,e3,e4,e5,e6,e7,e8,e9,e10,e11,e12,e13,e14]\n",
    "                            if not(norepet(cycle) and inrange(cycle,1, 28)):\n",
    "                                continue\n",
    "                            print([[1,2,3,4,5,6,7],[v2,v4,v6,v8,v10,v12,v14],\n",
    "                                  [e1,e2,e3,e4,e5,e6,e7,e8,e9,e10,e11,e12,e13,e14]],\"k= \",k)\n",
    "                            count +=1\n",
    "print(\"count= \", count)\n",
    "\n",
    "    "
   ]
  },
  {
   "cell_type": "code",
   "execution_count": 7,
   "id": "fa737d98-17f2-47f4-9408-6f55e34258c5",
   "metadata": {
    "tags": []
   },
   "outputs": [
    {
     "name": "stdout",
     "output_type": "stream",
     "text": [
      "[[1, 2, 3, 4, 5, 6, 7], [19, 27, 14, 28, 25, 22, 26], [18, 17, 24, 23, 9, 8, 21, 20, 16, 15, 11, 10, 13, 12]] k=  0\n",
      "[[1, 2, 3, 4, 5, 6, 7], [21, 28, 14, 23, 27, 22, 26], [20, 19, 25, 24, 9, 8, 16, 15, 18, 17, 11, 10, 13, 12]] k=  0\n",
      "[[1, 2, 3, 4, 5, 6, 7], [25, 19, 14, 28, 27, 22, 26], [24, 23, 16, 15, 9, 8, 21, 20, 18, 17, 11, 10, 13, 12]] k=  0\n",
      "[[1, 2, 3, 4, 5, 6, 7], [10, 14, 9, 8, 22, 17, 11], [24, 23, 26, 25, 19, 18, 16, 15, 28, 27, 21, 20, 13, 12]] k=  15\n",
      "[[1, 2, 3, 4, 5, 6, 7], [10, 14, 9, 13, 22, 8, 15], [24, 23, 26, 25, 19, 18, 21, 20, 28, 27, 12, 11, 17, 16]] k=  15\n",
      "[[1, 2, 3, 4, 5, 6, 7], [10, 14, 11, 8, 22, 9, 17], [24, 23, 26, 25, 21, 20, 16, 15, 28, 27, 13, 12, 19, 18]] k=  15\n",
      "count=  6\n"
     ]
    }
   ],
   "source": [
    "count =0\n",
    "for k in range(-23,52):\n",
    "    cycle=[1,2,3,4,5,6,7]\n",
    "    for e2 in range(8,29):\n",
    "        v2 = e2 -k+2\n",
    "        e1 = e2 +1\n",
    "        cycle= [1,2,3,4,5,6,7, v2,e1,e2]\n",
    "        if not(norepet(cycle) and inrange(cycle,1, 28)):\n",
    "            continue\n",
    "        for e4 in range(8,29):\n",
    "            v4 = e4 -k +4\n",
    "            e3 = e4 +1\n",
    "            cycle= [1,2,3,4,5,6,7, v2,v4,e1,e2,e3,e4]\n",
    "            if not(norepet(cycle) and inrange(cycle,1, 28)):\n",
    "                continue\n",
    "            for e6 in range(8,29):\n",
    "                v6 = e6 -k +6\n",
    "                e5 = e6 +1\n",
    "                cycle= [1,2,3,4,5,6,7, v2,v4,v6,e1,e2,e3,e4,e5,e6]\n",
    "                if not(norepet(cycle) and inrange(cycle,1, 28)):\n",
    "                    continue\n",
    "                for e8 in range(8,29):\n",
    "                    v8 = e8 -k +8\n",
    "                    e7 = e8 +1\n",
    "                    cycle= [1,2,3,4,5,6,7,v2,v4,v6,v8,e1,e2,e3,e4,e5,e6,e7,e8]\n",
    "                    if not(norepet(cycle) and inrange(cycle,1, 28)):\n",
    "                        continue\n",
    "                    for e10 in range(8,29):\n",
    "                        v10 = e10 -k +10\n",
    "                        e9 = e10 +1\n",
    "                        cycle= [1,2,3,4,5,6,7,v2,v4,v6,v8,v10,e1,e2,e3,e4,e5,e6,e7,e8,e9,e10]\n",
    "                        if not(norepet(cycle) and inrange(cycle,1, 28)):\n",
    "                            continue\n",
    "                        for e12 in range(8,29):\n",
    "                            v12 = e12 -k +12\n",
    "                            e11 = e12 +1\n",
    "                            cycle= [1,2,3,4,5,6,7,v2,v4,v6,v8,v10,v12,\n",
    "                                e1,e2,e3,e4,e5,e6,e7,e8,e9,e10,e11,e12]\n",
    "                            if not(norepet(cycle) and inrange(cycle,1, 28)):\n",
    "                                continue\n",
    "                            for e14 in range(8,29):\n",
    "                                v14 = e14 -k + 14\n",
    "                                e13 = e14 +1\n",
    "                                cycle= [1,2,3,4,5,6,7,v2,v4,v6,v8,v10,v12,v14,\n",
    "                                    e1,e2,e3,e4,e5,e6,e7,e8,e9,e10,e11,e12,e13,e14]\n",
    "                                if not(norepet(cycle) and inrange(cycle,1, 28)):\n",
    "                                    continue\n",
    "                                print([[1,2,3,4,5,6,7],[v2,v4,v6,v8,v10,v12,v14],\n",
    "                                  [e1,e2,e3,e4,e5,e6,e7,e8,e9,e10,e11,e12,e13,e14]],\"k= \",k)\n",
    "                                count +=1\n",
    "print(\"count= \", count)"
   ]
  },
  {
   "cell_type": "code",
   "execution_count": null,
   "id": "da36c7f6-9bce-4899-9db0-871df2353b03",
   "metadata": {},
   "outputs": [],
   "source": []
  }
 ],
 "metadata": {
  "kernelspec": {
   "display_name": "mathstone-kernel",
   "language": "python",
   "name": "mathstone-kernel"
  },
  "language_info": {
   "codemirror_mode": {
    "name": "ipython",
    "version": 3
   },
   "file_extension": ".py",
   "mimetype": "text/x-python",
   "name": "python",
   "nbconvert_exporter": "python",
   "pygments_lexer": "ipython3",
   "version": "3.12.1"
  }
 },
 "nbformat": 4,
 "nbformat_minor": 5
}
