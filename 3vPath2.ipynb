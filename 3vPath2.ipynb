{
 "cells": [
  {
   "cell_type": "code",
   "execution_count": 1,
   "id": "844c347c-ff3f-4977-90ad-1b9aae539601",
   "metadata": {},
   "outputs": [],
   "source": [
    "import networkx as nx\n",
    "import plotly as ply\n",
    "import numpy as np\n",
    "import sympy as sym"
   ]
  },
  {
   "cell_type": "code",
   "execution_count": 2,
   "id": "d07e8d87-4620-427d-bb49-e73ad9f60f7a",
   "metadata": {
    "tags": []
   },
   "outputs": [],
   "source": [
    "#0 -> 0 <- 0\n",
    "#v=3,e=2\n",
    "# -2<= k <= 8"
   ]
  },
  {
   "cell_type": "code",
   "execution_count": 4,
   "id": "9c6221d1-3b90-49f7-af3a-ca2f0c3256b0",
   "metadata": {
    "tags": []
   },
   "outputs": [],
   "source": [
    "def norepet(cycle):\n",
    "    ret =True\n",
    "    NewList =[]\n",
    "    for a in cycle:\n",
    "        if a not in NewList:\n",
    "            NewList.append(a)\n",
    "        else:\n",
    "            return False\n",
    "    return ret\n",
    "def inrange(cycle,min, max):\n",
    "    ret =True\n",
    "    for a in cycle:\n",
    "        if a < min:\n",
    "            return False\n",
    "        elif a > max:\n",
    "            return False\n",
    "    return ret"
   ]
  },
  {
   "cell_type": "code",
   "execution_count": 5,
   "id": "806573ca-fe89-4aee-a391-17d3463957df",
   "metadata": {
    "tags": []
   },
   "outputs": [
    {
     "name": "stdout",
     "output_type": "stream",
     "text": [
      "(Matrix([\n",
      "[1, -1, 0, 1, -1,  0],\n",
      "[0,  0, 1, 1, -1, -1]]), (0, 2))\n"
     ]
    }
   ],
   "source": [
    "M = np.matrix([[-1,1,1,0,0,-1],[0,0,1,1,-1,-1]])\n",
    "M_rref =sym.Matrix(M).rref()\n",
    "print(M_rref)"
   ]
  },
  {
   "cell_type": "code",
   "execution_count": 9,
   "id": "3991160a-4af8-4ef7-98d3-7730d4e10654",
   "metadata": {
    "tags": []
   },
   "outputs": [
    {
     "name": "stdout",
     "output_type": "stream",
     "text": [
      "[5, 3, 1, 2, 4]  k= -1\n",
      "[4, 2, 1, 3, 5]  k= -1\n",
      "[5, 2, 3, 1, 4]  k= 0\n",
      "[5, 4, 1, 2, 3]  k= 0\n",
      "[4, 1, 3, 2, 5]  k= 0\n",
      "[3, 2, 1, 4, 5]  k= 0\n",
      "done\n",
      "6\n"
     ]
    }
   ],
   "source": [
    "count =0\n",
    "for k in range(-1,1):\n",
    "    for d in range(1,6):\n",
    "        for f in range(1,6):\n",
    "            c= -d+f+k\n",
    "            cycle=[c,d,f]\n",
    "            if not norepet(cycle):\n",
    "                continue\n",
    "            if not inrange(cycle,1,5):\n",
    "                continue\n",
    "            for b in range(1,6):\n",
    "                a = b-d+f\n",
    "                cycle=[a,b,c,d,f]\n",
    "                if not norepet(cycle):\n",
    "                    continue\n",
    "                if not inrange(cycle,1,5):\n",
    "                    continue\n",
    "                print(cycle,\" k=\", k)\n",
    "                count += 1\n",
    "print(\"done\")\n",
    "print(count)"
   ]
  },
  {
   "cell_type": "code",
   "execution_count": 10,
   "id": "b1c2ac94-98e7-4b3e-8695-c6424229113c",
   "metadata": {
    "tags": []
   },
   "outputs": [
    {
     "name": "stdout",
     "output_type": "stream",
     "text": [
      "[3, 4, 5, 2, 1]  k= 6\n",
      "[2, 5, 3, 4, 1]  k= 6\n",
      "[1, 2, 5, 4, 3]  k= 6\n",
      "[1, 4, 3, 5, 2]  k= 6\n",
      "[2, 4, 5, 3, 1]  k= 7\n",
      "[1, 3, 5, 4, 2]  k= 7\n",
      "done\n",
      "6\n"
     ]
    }
   ],
   "source": [
    "count =0\n",
    "for k in range(6,9):\n",
    "    for d in range(1,6):\n",
    "        for f in range(1,6):\n",
    "            c= -d+f+k\n",
    "            cycle=[c,d,f]\n",
    "            if not norepet(cycle):\n",
    "                continue\n",
    "            if not inrange(cycle,1,5):\n",
    "                continue\n",
    "            for b in range(1,6):\n",
    "                a = b-d+f\n",
    "                cycle=[a,b,c,d,f]\n",
    "                if not norepet(cycle):\n",
    "                    continue\n",
    "                if not inrange(cycle,1,5):\n",
    "                    continue\n",
    "                print(cycle,\" k=\", k)\n",
    "                count +=1\n",
    "print(\"done\")\n",
    "print(count)"
   ]
  },
  {
   "cell_type": "code",
   "execution_count": 11,
   "id": "be46e97a-76d4-4ebf-8d82-4d44175d4565",
   "metadata": {
    "tags": []
   },
   "outputs": [
    {
     "name": "stdout",
     "output_type": "stream",
     "text": [
      "(Matrix([\n",
      "[1, 0, -1,  1, -1],\n",
      "[0, 1,  1, -1, -1]]), (0, 1))\n"
     ]
    }
   ],
   "source": [
    "M = np.matrix([[1,1,0,0,-2],[0,1,1,-1,-1]])\n",
    "M_rref =sym.Matrix(M).rref()\n",
    "print(M_rref)"
   ]
  },
  {
   "cell_type": "code",
   "execution_count": 13,
   "id": "97853041-e5e8-40d9-8715-7d136759ce45",
   "metadata": {
    "tags": []
   },
   "outputs": [
    {
     "name": "stdout",
     "output_type": "stream",
     "text": [
      "[2, 1, 3, 4, 5]  k= 2\n",
      "[2, 3, 1, 5, 4]  k= 2\n",
      "[3, 1, 5, 2, 4]  k= 3\n",
      "[3, 5, 1, 4, 2]  k= 3\n",
      "[4, 3, 5, 1, 2]  k= 4\n",
      "[4, 5, 3, 2, 1]  k= 4\n",
      "done\n",
      "6\n"
     ]
    }
   ],
   "source": [
    "count =0\n",
    "for k in range(1,6):\n",
    "    for d in range(1,6):\n",
    "        for f in range(1,6):\n",
    "            b=d-f+k\n",
    "            c=-d+f+k\n",
    "            cycle=[k,b,c,d,f]\n",
    "            if not norepet(cycle):\n",
    "                continue\n",
    "            if not inrange(cycle,1,5):\n",
    "                continue\n",
    "            print(cycle, \" k=\",k)\n",
    "            count+=1\n",
    "print(\"done\")\n",
    "print(count)"
   ]
  },
  {
   "cell_type": "code",
   "execution_count": null,
   "id": "53da7aaa-6e2e-4441-9a8e-06b303edd2ff",
   "metadata": {},
   "outputs": [],
   "source": []
  }
 ],
 "metadata": {
  "kernelspec": {
   "display_name": "mathstone-kernel",
   "language": "python",
   "name": "mathstone-kernel"
  },
  "language_info": {
   "codemirror_mode": {
    "name": "ipython",
    "version": 3
   },
   "file_extension": ".py",
   "mimetype": "text/x-python",
   "name": "python",
   "nbconvert_exporter": "python",
   "pygments_lexer": "ipython3",
   "version": "3.12.1"
  }
 },
 "nbformat": 4,
 "nbformat_minor": 5
}
