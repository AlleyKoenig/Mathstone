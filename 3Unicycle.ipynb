{
 "cells": [
  {
   "cell_type": "code",
   "execution_count": 1,
   "id": "4a847dfb-789b-4ca6-8e59-314a9df7e2ae",
   "metadata": {
    "tags": []
   },
   "outputs": [],
   "source": [
    "import networkx as nx\n",
    "import plotly as ply\n",
    "import numpy as np\n",
    "import sympy as sym"
   ]
  },
  {
   "cell_type": "code",
   "execution_count": 2,
   "id": "54d322b8-888b-42ae-9cb8-f5ced0f9fb78",
   "metadata": {
    "tags": []
   },
   "outputs": [],
   "source": [
    "# a -b-> c -d-> f -g-> a\n",
    "#v=3,e=3, v+e =6\n",
    "#-3<= k<= 10"
   ]
  },
  {
   "cell_type": "code",
   "execution_count": 3,
   "id": "d33ff71b-89fd-48e4-a02b-5a514a1b218e",
   "metadata": {
    "tags": []
   },
   "outputs": [],
   "source": [
    "def norepet(cycle):\n",
    "    ret =True\n",
    "    NewList =[]\n",
    "    for a in cycle:\n",
    "        if a not in NewList:\n",
    "            NewList.append(a)\n",
    "        else:\n",
    "            return False\n",
    "    return ret\n",
    "def inrange(cycle,min, max):\n",
    "    ret =True\n",
    "    for a in cycle:\n",
    "        if a < min:\n",
    "            return False\n",
    "        elif a > max:\n",
    "            return False\n",
    "    return ret"
   ]
  },
  {
   "cell_type": "code",
   "execution_count": 10,
   "id": "775ea261-c9d7-417d-b18b-ec897ab6a06c",
   "metadata": {
    "tags": []
   },
   "outputs": [
    {
     "name": "stdout",
     "output_type": "stream",
     "text": [
      "(Matrix([\n",
      "[1, 0, 0,  0, -1, 1, -1],\n",
      "[0, 1, 0,  1,  0, 1, -3],\n",
      "[0, 0, 1, -1, -1, 0,  1]]), (0, 1, 2))\n"
     ]
    }
   ],
   "source": [
    "M = np.matrix([[-1,1,1,0,0,0,-1],\n",
    "               [0,0,-1,1,1,0,-1],[1,0,0,0,-1,1,-1]])\n",
    "M_rref =sym.Matrix(M).rref()\n",
    "print(M_rref)"
   ]
  },
  {
   "cell_type": "code",
   "execution_count": 7,
   "id": "fe012da6-746e-4737-bbcb-2c8c8efb72fd",
   "metadata": {
    "tags": []
   },
   "outputs": [
    {
     "name": "stdout",
     "output_type": "stream",
     "text": [
      "0\n"
     ]
    }
   ],
   "source": [
    "count =0\n",
    "for k in range(-3,1):\n",
    "    for d in range(1,7):\n",
    "        for f in range (1,7):\n",
    "            c= d+f-k\n",
    "            cycle =[c,d,f]\n",
    "            if not norepet(cycle):\n",
    "                continue\n",
    "            if not inrange(cycle,1,5):\n",
    "                continue\n",
    "            for g in range(1,7):\n",
    "                a=f-g+k\n",
    "                b= -d-g +3*k\n",
    "                cycle =[a,b,c,d,f,g]\n",
    "                if not norepet(cycle):\n",
    "                    continue\n",
    "                if not inrange(cycle,1,5):\n",
    "                    continue\n",
    "                count +=1\n",
    "                print(cycle,' k=',k)\n",
    "print(count)"
   ]
  },
  {
   "cell_type": "code",
   "execution_count": 9,
   "id": "4921f24a-b358-4ee4-958c-d00b73924462",
   "metadata": {
    "tags": []
   },
   "outputs": [
    {
     "name": "stdout",
     "output_type": "stream",
     "text": [
      "0\n"
     ]
    }
   ],
   "source": [
    "count =0\n",
    "for k in range(7,11):\n",
    "    for d in range(1,7):\n",
    "        for f in range (1,7):\n",
    "            c= d+f-k\n",
    "            cycle =[c,d,f]\n",
    "            if not norepet(cycle):\n",
    "                continue\n",
    "            if not inrange(cycle,1,5):\n",
    "                continue\n",
    "            for g in range(1,7):\n",
    "                a=f-g+k\n",
    "                b= -d-g +3*k\n",
    "                cycle =[a,b,c,d,f,g]\n",
    "                if not norepet(cycle):\n",
    "                    continue\n",
    "                if not inrange(cycle,1,5):\n",
    "                    continue\n",
    "                count +=1\n",
    "                print(cycle,' k=',k)\n",
    "print(count)"
   ]
  },
  {
   "cell_type": "code",
   "execution_count": null,
   "id": "6ac4212a-fe75-4792-920b-18be8e06ac62",
   "metadata": {},
   "outputs": [],
   "source": []
  }
 ],
 "metadata": {
  "kernelspec": {
   "display_name": "mathstone-kernel",
   "language": "python",
   "name": "mathstone-kernel"
  },
  "language_info": {
   "codemirror_mode": {
    "name": "ipython",
    "version": 3
   },
   "file_extension": ".py",
   "mimetype": "text/x-python",
   "name": "python",
   "nbconvert_exporter": "python",
   "pygments_lexer": "ipython3",
   "version": "3.12.1"
  }
 },
 "nbformat": 4,
 "nbformat_minor": 5
}
