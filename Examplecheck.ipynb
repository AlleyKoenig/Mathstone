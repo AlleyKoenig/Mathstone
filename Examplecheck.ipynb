{
 "cells": [
  {
   "cell_type": "code",
   "execution_count": 4,
   "id": "8af8d9c7-b566-4cb3-a553-867acd4d0284",
   "metadata": {
    "tags": []
   },
   "outputs": [],
   "source": [
    "import networkx as nx\n",
    "import plotly as ply\n",
    "import numpy as np\n",
    "import sympy as sym"
   ]
  },
  {
   "cell_type": "code",
   "execution_count": 2,
   "id": "c21a08cf-bed8-4d82-972c-ebb3b025dcea",
   "metadata": {
    "tags": []
   },
   "outputs": [],
   "source": [
    "def norepet(cycle):\n",
    "    ret =True\n",
    "    NewList =[]\n",
    "    for a in cycle:\n",
    "        if a not in NewList:\n",
    "            NewList.append(a)\n",
    "        else:\n",
    "            return False\n",
    "    return ret\n",
    "def inrange(cycle,min, max):\n",
    "    ret =True\n",
    "    for a in cycle:\n",
    "        if a < min:\n",
    "            return False\n",
    "        elif a > max:\n",
    "            return False\n",
    "    return ret"
   ]
  },
  {
   "cell_type": "code",
   "execution_count": 5,
   "id": "2e89b491-74d7-41d1-8d77-ceac3d966c9f",
   "metadata": {
    "tags": []
   },
   "outputs": [
    {
     "name": "stdout",
     "output_type": "stream",
     "text": [
      "(Matrix([\n",
      "[1, 0, 0, 0, -1, 0, 0,  0,  0,  0, 1, -1],\n",
      "[0, 1, 0, 0, -1, 0, 0,  0, -1,  1, 1, -1],\n",
      "[0, 0, 1, 0, -1, 0, 0, -1, -1,  0, 1,  1],\n",
      "[0, 0, 0, 1, -1, 0, 0,  0, -1,  0, 1,  0],\n",
      "[0, 0, 0, 0,  0, 1, 0,  0,  1, -1, 0, -1],\n",
      "[0, 0, 0, 0,  0, 0, 1,  1,  0,  1, 0, -3]]), (0, 1, 2, 3, 5, 6))\n"
     ]
    }
   ],
   "source": [
    "M=np.matrix([[-1,1,0,0,0,1,0,0,0,0,0,-1],\n",
    "             [0,-1,1,0,0,0,1,0,0,0,0,-1],\n",
    "             [0,0,-1,1,0,0,0,1,0,0,0,-1],\n",
    "             [1,0,0,-1,0,0,0,0,1,0,0,-1],\n",
    "             [0,1,0,-1,0,0,0,0,0,1,0,-1],\n",
    "             [1,0,0,0,-1,0,0,0,0,0,1,-1]])\n",
    "M_rref =sym.Matrix(M).rref()\n",
    "print(M_rref)"
   ]
  },
  {
   "cell_type": "code",
   "execution_count": 8,
   "id": "995732f1-26fd-40ab-9406-486397c8d0af",
   "metadata": {
    "tags": []
   },
   "outputs": [
    {
     "name": "stdout",
     "output_type": "stream",
     "text": [
      "0\n"
     ]
    }
   ],
   "source": [
    "count=0\n",
    "for k in range(-8,21):\n",
    "    for v5 in range(1,12):\n",
    "        for e6 in range(1,12):\n",
    "            v1=v5 -e6 +k\n",
    "            cycle=[v1,v5,e6]\n",
    "            if not norepet(cycle):\n",
    "                continue\n",
    "            if not inrange(cycle,1,11):\n",
    "                continue\n",
    "            for e4 in range(1,12):\n",
    "                v4= v5+e4 -e6\n",
    "                cycle=[v1,v4,v5,e4,e6]\n",
    "                if not norepet(cycle):\n",
    "                    continue\n",
    "                if not inrange(cycle,1,5):\n",
    "                    continue\n",
    "                for e5 in range(1,12):\n",
    "                    v2 = v5 +e4 -e5 -e6 +k\n",
    "                    e1 = -e4 +e5 +k\n",
    "                    cycle = [v1,v2,v4,v5,e1,e4,e5,e6]\n",
    "                    if not norepet(cycle):\n",
    "                        continue\n",
    "                    if not inrange(cycle,1,5):\n",
    "                        continue\n",
    "                    for e3 in range(1,12):\n",
    "                        v3=v5 +e3 +e4 -e6 -k\n",
    "                        e2 = -e3 -e5 + (3*k)\n",
    "                        cycle=[v1,v2,v3,v4,v5,e1,e2,e3,e4,e5,e6]\n",
    "                        if not norepet(cycle):\n",
    "                            continue\n",
    "                        if not inrange(cycle,1,5):\n",
    "                            continue\n",
    "                        count +=1\n",
    "                        print(cycle,\" k=\",k)\n",
    "print(count)"
   ]
  },
  {
   "cell_type": "code",
   "execution_count": null,
   "id": "fd782410-f33f-4b71-99ee-fa8b1cb1193d",
   "metadata": {},
   "outputs": [],
   "source": []
  }
 ],
 "metadata": {
  "kernelspec": {
   "display_name": "mathstone-kernel",
   "language": "python",
   "name": "mathstone-kernel"
  },
  "language_info": {
   "codemirror_mode": {
    "name": "ipython",
    "version": 3
   },
   "file_extension": ".py",
   "mimetype": "text/x-python",
   "name": "python",
   "nbconvert_exporter": "python",
   "pygments_lexer": "ipython3",
   "version": "3.12.1"
  }
 },
 "nbformat": 4,
 "nbformat_minor": 5
}
