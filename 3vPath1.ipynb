{
 "cells": [
  {
   "cell_type": "code",
   "execution_count": 4,
   "id": "d956c99f-a2b0-4608-b2be-8c80fd8690dc",
   "metadata": {},
   "outputs": [],
   "source": [
    "import networkx as nx\n",
    "import plotly as ply\n",
    "import numpy as np\n",
    "import sympy as sym"
   ]
  },
  {
   "cell_type": "code",
   "execution_count": null,
   "id": "35e9503f-ad9c-4113-bbc5-5b197774c6c8",
   "metadata": {},
   "outputs": [],
   "source": [
    "#0 -> 0 -> 0"
   ]
  },
  {
   "cell_type": "code",
   "execution_count": 20,
   "id": "6420e326-bf9f-4364-a2b8-814a6be27edf",
   "metadata": {},
   "outputs": [],
   "source": [
    "def norepet(cycle):\n",
    "    ret =True\n",
    "    NewList =[]\n",
    "    for a in cycle:\n",
    "        if a not in NewList:\n",
    "            NewList.append(a)\n",
    "        else:\n",
    "            return False\n",
    "    return ret\n",
    "def inrange(cycle,min, max):\n",
    "    ret =True\n",
    "    for a in cycle:\n",
    "        if a < min:\n",
    "            return False\n",
    "        elif a > max:\n",
    "            return False\n",
    "    return ret\n"
   ]
  },
  {
   "cell_type": "code",
   "execution_count": 21,
   "id": "bb2c1554-cb42-4d01-b61e-47c58aa68313",
   "metadata": {
    "tags": []
   },
   "outputs": [
    {
     "name": "stdout",
     "output_type": "stream",
     "text": [
      "(Matrix([\n",
      "[1, -1, 0, -1, -1, 2],\n",
      "[0,  0, 1, -1, -1, 1]]), (0, 2))\n"
     ]
    }
   ],
   "source": [
    "M = np.matrix([[-1,1,1,0,0,-1],[0,0,-1,1,1,-1]])\n",
    "M_rref =sym.Matrix(M).rref()\n",
    "print(M_rref)"
   ]
  },
  {
   "cell_type": "code",
   "execution_count": 25,
   "id": "39f78e9c-cd55-4989-8745-4eebc57f1bd6",
   "metadata": {},
   "outputs": [
    {
     "name": "stdout",
     "output_type": "stream",
     "text": [
      "done\n"
     ]
    }
   ],
   "source": [
    "#Since v=3, e=2 minimum for k is -2, \n",
    "#check for when -2<= k <1 \n",
    "for k in range(-2,1):\n",
    "    for d in range(1,6):\n",
    "        for f in range(1,6):\n",
    "            c= d+f+k\n",
    "            cycle =[c,d,f]\n",
    "            if not norepet(cycle):\n",
    "                continue\n",
    "            if not inrange(cycle,1,5):\n",
    "                continue\n",
    "            for b in range(1,6):\n",
    "                a = b+d+f-2*k\n",
    "                cycle =[a,b,c,d,f]\n",
    "                if not norepet(cycle):\n",
    "                    continue\n",
    "                if not inrange(cycle,1,5):\n",
    "                    continue\n",
    "                print(cycle,\"k=\",k)\n",
    "print(\"done\")"
   ]
  },
  {
   "cell_type": "code",
   "execution_count": 28,
   "id": "e7758d9f-6e3b-4db9-a9a8-6dd8f93ddb49",
   "metadata": {
    "tags": []
   },
   "outputs": [
    {
     "name": "stdout",
     "output_type": "stream",
     "text": [
      "done\n"
     ]
    }
   ],
   "source": [
    "for k in range(6,9):\n",
    "    for d in range(1,6):\n",
    "        for f in range(1,6):\n",
    "            c= d+f+k\n",
    "            cycle =[c,d,f]\n",
    "            if not norepet(cycle):\n",
    "                continue\n",
    "            if not inrange(cycle,1,5):\n",
    "                continue\n",
    "            for b in range(1,6):\n",
    "                a = b+d+f-2*k\n",
    "                cycle =[a,b,c,d,f]\n",
    "                if not norepet(cycle):\n",
    "                    continue\n",
    "                if not inrange(cycle,1,5):\n",
    "                    continue\n",
    "                print(cycle,\"k=\",k)\n",
    "print(\"done\")"
   ]
  },
  {
   "cell_type": "code",
   "execution_count": 29,
   "id": "2d7c1478-cb37-4901-9a7a-b343b79d347c",
   "metadata": {
    "tags": []
   },
   "outputs": [
    {
     "name": "stdout",
     "output_type": "stream",
     "text": [
      "(Matrix([\n",
      "[1, 0,  1,  1, -3],\n",
      "[0, 1, -1, -1,  1]]), (0, 1))\n"
     ]
    }
   ],
   "source": [
    "M=np.matrix([[1,1,0,0,-2],[0,-1,1,1,-1]])\n",
    "M_rref =sym.Matrix(M).rref()\n",
    "print(M_rref)"
   ]
  },
  {
   "cell_type": "code",
   "execution_count": 35,
   "id": "afe4f77d-795a-49c7-a378-8c2c77a0287e",
   "metadata": {
    "tags": []
   },
   "outputs": [
    {
     "name": "stdout",
     "output_type": "stream",
     "text": [
      "done\n"
     ]
    }
   ],
   "source": [
    "for k in range(1,6):\n",
    "    for d in range(1,6):\n",
    "        for f in range(1,6):\n",
    "            b=-d+f-3*k\n",
    "            c=d+f+k\n",
    "            cycle=[k,b,c,d,f]\n",
    "            if not norepet(cycle):\n",
    "                continue\n",
    "            if not inrange(cycle,1,5):\n",
    "                continue\n",
    "            print(cycle,\"k=\",k)\n",
    "print(\"done\")"
   ]
  },
  {
   "cell_type": "code",
   "execution_count": null,
   "id": "c4d48736-3d69-4414-ab3b-46f3c7ce04ae",
   "metadata": {},
   "outputs": [],
   "source": []
  }
 ],
 "metadata": {
  "kernelspec": {
   "display_name": "mathstone-kernel",
   "language": "python",
   "name": "mathstone-kernel"
  },
  "language_info": {
   "codemirror_mode": {
    "name": "ipython",
    "version": 3
   },
   "file_extension": ".py",
   "mimetype": "text/x-python",
   "name": "python",
   "nbconvert_exporter": "python",
   "pygments_lexer": "ipython3",
   "version": "3.12.1"
  }
 },
 "nbformat": 4,
 "nbformat_minor": 5
}
