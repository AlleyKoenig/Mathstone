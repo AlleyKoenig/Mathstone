{
 "cells": [
  {
   "cell_type": "code",
   "execution_count": 1,
   "id": "d956c99f-a2b0-4608-b2be-8c80fd8690dc",
   "metadata": {},
   "outputs": [],
   "source": [
    "import networkx as nx\n",
    "import plotly as ply\n",
    "import numpy as np\n",
    "import sympy as sym"
   ]
  },
  {
   "cell_type": "code",
   "execution_count": 1,
   "id": "6420e326-bf9f-4364-a2b8-814a6be27edf",
   "metadata": {},
   "outputs": [],
   "source": [
    "def repet(cycle):\n",
    "    ret =True\n",
    "    NewList =[]\n",
    "    for a in cycle:\n",
    "        if a not in NewList:\n",
    "            newList.append(a)\n",
    "        else:\n",
    "            return False\n",
    "    return ret\n",
    "def inrange(cycle,min, max):\n",
    "    ret =True\n",
    "    for a in cycle:\n",
    "        if a < min:\n",
    "            return False\n",
    "        elif a > max:\n",
    "            return False\n",
    "    return ret\n"
   ]
  },
  {
   "cell_type": "code",
   "execution_count": null,
   "id": "39f78e9c-cd55-4989-8745-4eebc57f1bd6",
   "metadata": {},
   "outputs": [],
   "source": [
    "#Since v=3, e=2 minimum for k is -2, \n",
    "#check for when -2<= k <1 \n"
   ]
  }
 ],
 "metadata": {
  "kernelspec": {
   "display_name": "mathstone-kernel",
   "language": "python",
   "name": "mathstone-kernel"
  },
  "language_info": {
   "codemirror_mode": {
    "name": "ipython",
    "version": 3
   },
   "file_extension": ".py",
   "mimetype": "text/x-python",
   "name": "python",
   "nbconvert_exporter": "python",
   "pygments_lexer": "ipython3",
   "version": "3.12.1"
  }
 },
 "nbformat": 4,
 "nbformat_minor": 5
}
