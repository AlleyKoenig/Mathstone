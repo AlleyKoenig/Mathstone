{
 "cells": [
  {
   "cell_type": "code",
   "execution_count": 4,
   "id": "afdbbe19-e1b6-4a87-abf6-277d50200b0a",
   "metadata": {
    "tags": []
   },
   "outputs": [],
   "source": [
    "import networkx as nx\n",
    "import plotly as ply\n",
    "import numpy as np\n",
    "import sympy as sym"
   ]
  },
  {
   "cell_type": "code",
   "execution_count": 5,
   "id": "666483cc-d160-482e-be6e-c71618ba01e7",
   "metadata": {
    "tags": []
   },
   "outputs": [],
   "source": [
    "# 0 <- 0 -> 0\n",
    "#v=3,e=2\n",
    "# -2<= k <= 8"
   ]
  },
  {
   "cell_type": "code",
   "execution_count": 6,
   "id": "b74abf9a-0c7b-4f67-80b2-f6f6a38489e3",
   "metadata": {
    "tags": []
   },
   "outputs": [],
   "source": [
    "def norepet(cycle):\n",
    "    ret =True\n",
    "    NewList =[]\n",
    "    for a in cycle:\n",
    "        if a not in NewList:\n",
    "            NewList.append(a)\n",
    "        else:\n",
    "            return False\n",
    "    return ret\n",
    "def inrange(cycle,min, max):\n",
    "    ret =True\n",
    "    for a in cycle:\n",
    "        if a < min:\n",
    "            return False\n",
    "        elif a > max:\n",
    "            return False\n",
    "    return ret"
   ]
  },
  {
   "cell_type": "code",
   "execution_count": 9,
   "id": "31fad8aa-abab-418e-aca3-7d2533bc2c86",
   "metadata": {
    "tags": []
   },
   "outputs": [
    {
     "name": "stdout",
     "output_type": "stream",
     "text": [
      "(Matrix([\n",
      "[1, 1, 0, -1, -1, 0],\n",
      "[0, 0, 1, -1, -1, 1]]), (0, 2))\n"
     ]
    }
   ],
   "source": [
    "M= np.matrix([[1,1,-1,0,0,-1],[0,0,-1,1,1,-1]])\n",
    "M_rref =sym.Matrix(M).rref()\n",
    "print(M_rref)"
   ]
  },
  {
   "cell_type": "code",
   "execution_count": 12,
   "id": "fa28fb63-2a03-4d61-8534-462deb49168b",
   "metadata": {
    "tags": []
   },
   "outputs": [
    {
     "name": "stdout",
     "output_type": "stream",
     "text": [
      "[3, 2, 5, 1, 4]  k= 0\n",
      "[2, 3, 5, 1, 4]  k= 0\n",
      "[4, 1, 5, 2, 3]  k= 0\n",
      "[1, 4, 5, 2, 3]  k= 0\n",
      "[4, 1, 5, 3, 2]  k= 0\n",
      "[1, 4, 5, 3, 2]  k= 0\n",
      "[3, 2, 5, 4, 1]  k= 0\n",
      "[2, 3, 5, 4, 1]  k= 0\n",
      "8\n"
     ]
    }
   ],
   "source": [
    "count =0\n",
    "for k in range(-2,1):\n",
    "    for d in range(1,6):\n",
    "        for f in range(1,6):\n",
    "            c= d+f+k\n",
    "            cycle =[c,d,f]\n",
    "            if not norepet(cycle):\n",
    "                continue\n",
    "            if not inrange(cycle,1,5):\n",
    "                continue\n",
    "            for b in range(1,6):\n",
    "                a=-b+d+f\n",
    "                cycle=[a,b,c,d,f]\n",
    "                if not norepet(cycle):\n",
    "                    continue\n",
    "                if not inrange(cycle,1,5):\n",
    "                    continue\n",
    "                print(cycle,\" k=\",k)\n",
    "                count +=1\n",
    "print(count)"
   ]
  },
  {
   "cell_type": "code",
   "execution_count": 14,
   "id": "9f1b38fa-5e0f-4c38-91a3-5b5d7dd922f8",
   "metadata": {
    "tags": []
   },
   "outputs": [
    {
     "name": "stdout",
     "output_type": "stream",
     "text": [
      "0\n"
     ]
    }
   ],
   "source": [
    "count =0\n",
    "for k in range(6,8):\n",
    "    for d in range(1,6):\n",
    "        for f in range(1,6):\n",
    "            c= d+f+k\n",
    "            cycle =[c,d,f]\n",
    "            if not norepet(cycle):\n",
    "                continue\n",
    "            if not inrange(cycle,1,5):\n",
    "                continue\n",
    "            for b in range(1,6):\n",
    "                a=-b+d+f\n",
    "                cycle=[a,b,c,d,f]\n",
    "                if not norepet(cycle):\n",
    "                    continue\n",
    "                if not inrange(cycle,1,5):\n",
    "                    continue\n",
    "                print(cycle,\" k=\",k)\n",
    "                count +=1\n",
    "print(count)"
   ]
  },
  {
   "cell_type": "code",
   "execution_count": 15,
   "id": "417867d9-0195-461b-8d3d-8246991237fd",
   "metadata": {
    "tags": []
   },
   "outputs": [
    {
     "name": "stdout",
     "output_type": "stream",
     "text": [
      "(Matrix([\n",
      "[1, 1, 0, 0, -2],\n",
      "[0, 0, 1, 1, -2]]), (0, 2))\n"
     ]
    }
   ],
   "source": [
    "M= np.matrix([[1,1,0,0,-2],[0,0,1,1,-2]])\n",
    "M_rref =sym.Matrix(M).rref()\n",
    "print(M_rref)"
   ]
  },
  {
   "cell_type": "code",
   "execution_count": 16,
   "id": "6f928ee1-7f0a-46c4-9789-7787db7ec259",
   "metadata": {
    "tags": []
   },
   "outputs": [
    {
     "name": "stdout",
     "output_type": "stream",
     "text": [
      "[5, 1, 3, 4, 2]  k= 3\n",
      "[5, 1, 3, 2, 4]  k= 3\n",
      "[4, 2, 3, 5, 1]  k= 3\n",
      "[4, 2, 3, 1, 5]  k= 3\n",
      "[2, 4, 3, 5, 1]  k= 3\n",
      "[2, 4, 3, 1, 5]  k= 3\n",
      "[1, 5, 3, 4, 2]  k= 3\n",
      "[1, 5, 3, 2, 4]  k= 3\n",
      "8\n"
     ]
    }
   ],
   "source": [
    "count=0\n",
    "for k in range(1,6):\n",
    "    for b in range(1,6):\n",
    "        a= -b+2*k\n",
    "        cycle=[a,b,k]\n",
    "        if not norepet(cycle):\n",
    "            continue\n",
    "        if not inrange(cycle,1,5):\n",
    "            continue\n",
    "        for f in range(1,6):\n",
    "            d=-f+2*k\n",
    "            cycle=[a,b,k,d,f]\n",
    "            if not norepet(cycle):\n",
    "                continue\n",
    "            if not inrange(cycle,1,5):\n",
    "                continue\n",
    "            print(cycle, ' k=', k)\n",
    "            count +=1\n",
    "print(count)"
   ]
  },
  {
   "cell_type": "code",
   "execution_count": null,
   "id": "e3e7c5d7-7715-4bc4-96c7-a9ed44f7cf11",
   "metadata": {},
   "outputs": [],
   "source": []
  }
 ],
 "metadata": {
  "kernelspec": {
   "display_name": "mathstone-kernel",
   "language": "python",
   "name": "mathstone-kernel"
  },
  "language_info": {
   "codemirror_mode": {
    "name": "ipython",
    "version": 3
   },
   "file_extension": ".py",
   "mimetype": "text/x-python",
   "name": "python",
   "nbconvert_exporter": "python",
   "pygments_lexer": "ipython3",
   "version": "3.12.1"
  }
 },
 "nbformat": 4,
 "nbformat_minor": 5
}
